{
 "metadata": {
  "language_info": {
   "codemirror_mode": {
    "name": "ipython",
    "version": 3
   },
   "file_extension": ".py",
   "mimetype": "text/x-python",
   "name": "python",
   "nbconvert_exporter": "python",
   "pygments_lexer": "ipython3",
   "version": "3.8.3-final"
  },
  "orig_nbformat": 2,
  "kernelspec": {
   "name": "python3",
   "display_name": "Python 3",
   "language": "python"
  }
 },
 "nbformat": 4,
 "nbformat_minor": 2,
 "cells": [
  {
   "cell_type": "code",
   "execution_count": 896,
   "metadata": {},
   "outputs": [
    {
     "output_type": "execute_result",
     "data": {
      "text/plain": [
       "     PassengerId  Survived  Pclass  \\\n",
       "0              1         0       3   \n",
       "1              2         1       1   \n",
       "2              3         1       3   \n",
       "3              4         1       1   \n",
       "4              5         0       3   \n",
       "..           ...       ...     ...   \n",
       "886          887         0       2   \n",
       "887          888         1       1   \n",
       "888          889         0       3   \n",
       "889          890         1       1   \n",
       "890          891         0       3   \n",
       "\n",
       "                                                  Name     Sex   Age  SibSp  \\\n",
       "0                              Braund, Mr. Owen Harris    male  22.0      1   \n",
       "1    Cumings, Mrs. John Bradley (Florence Briggs Th...  female  38.0      1   \n",
       "2                               Heikkinen, Miss. Laina  female  26.0      0   \n",
       "3         Futrelle, Mrs. Jacques Heath (Lily May Peel)  female  35.0      1   \n",
       "4                             Allen, Mr. William Henry    male  35.0      0   \n",
       "..                                                 ...     ...   ...    ...   \n",
       "886                              Montvila, Rev. Juozas    male  27.0      0   \n",
       "887                       Graham, Miss. Margaret Edith  female  19.0      0   \n",
       "888           Johnston, Miss. Catherine Helen \"Carrie\"  female   NaN      1   \n",
       "889                              Behr, Mr. Karl Howell    male  26.0      0   \n",
       "890                                Dooley, Mr. Patrick    male  32.0      0   \n",
       "\n",
       "     Parch            Ticket     Fare Cabin Embarked  \n",
       "0        0         A/5 21171   7.2500   NaN        S  \n",
       "1        0          PC 17599  71.2833   C85        C  \n",
       "2        0  STON/O2. 3101282   7.9250   NaN        S  \n",
       "3        0            113803  53.1000  C123        S  \n",
       "4        0            373450   8.0500   NaN        S  \n",
       "..     ...               ...      ...   ...      ...  \n",
       "886      0            211536  13.0000   NaN        S  \n",
       "887      0            112053  30.0000   B42        S  \n",
       "888      2        W./C. 6607  23.4500   NaN        S  \n",
       "889      0            111369  30.0000  C148        C  \n",
       "890      0            370376   7.7500   NaN        Q  \n",
       "\n",
       "[891 rows x 12 columns]"
      ],
      "text/html": "<div>\n<style scoped>\n    .dataframe tbody tr th:only-of-type {\n        vertical-align: middle;\n    }\n\n    .dataframe tbody tr th {\n        vertical-align: top;\n    }\n\n    .dataframe thead th {\n        text-align: right;\n    }\n</style>\n<table border=\"1\" class=\"dataframe\">\n  <thead>\n    <tr style=\"text-align: right;\">\n      <th></th>\n      <th>PassengerId</th>\n      <th>Survived</th>\n      <th>Pclass</th>\n      <th>Name</th>\n      <th>Sex</th>\n      <th>Age</th>\n      <th>SibSp</th>\n      <th>Parch</th>\n      <th>Ticket</th>\n      <th>Fare</th>\n      <th>Cabin</th>\n      <th>Embarked</th>\n    </tr>\n  </thead>\n  <tbody>\n    <tr>\n      <th>0</th>\n      <td>1</td>\n      <td>0</td>\n      <td>3</td>\n      <td>Braund, Mr. Owen Harris</td>\n      <td>male</td>\n      <td>22.0</td>\n      <td>1</td>\n      <td>0</td>\n      <td>A/5 21171</td>\n      <td>7.2500</td>\n      <td>NaN</td>\n      <td>S</td>\n    </tr>\n    <tr>\n      <th>1</th>\n      <td>2</td>\n      <td>1</td>\n      <td>1</td>\n      <td>Cumings, Mrs. John Bradley (Florence Briggs Th...</td>\n      <td>female</td>\n      <td>38.0</td>\n      <td>1</td>\n      <td>0</td>\n      <td>PC 17599</td>\n      <td>71.2833</td>\n      <td>C85</td>\n      <td>C</td>\n    </tr>\n    <tr>\n      <th>2</th>\n      <td>3</td>\n      <td>1</td>\n      <td>3</td>\n      <td>Heikkinen, Miss. Laina</td>\n      <td>female</td>\n      <td>26.0</td>\n      <td>0</td>\n      <td>0</td>\n      <td>STON/O2. 3101282</td>\n      <td>7.9250</td>\n      <td>NaN</td>\n      <td>S</td>\n    </tr>\n    <tr>\n      <th>3</th>\n      <td>4</td>\n      <td>1</td>\n      <td>1</td>\n      <td>Futrelle, Mrs. Jacques Heath (Lily May Peel)</td>\n      <td>female</td>\n      <td>35.0</td>\n      <td>1</td>\n      <td>0</td>\n      <td>113803</td>\n      <td>53.1000</td>\n      <td>C123</td>\n      <td>S</td>\n    </tr>\n    <tr>\n      <th>4</th>\n      <td>5</td>\n      <td>0</td>\n      <td>3</td>\n      <td>Allen, Mr. William Henry</td>\n      <td>male</td>\n      <td>35.0</td>\n      <td>0</td>\n      <td>0</td>\n      <td>373450</td>\n      <td>8.0500</td>\n      <td>NaN</td>\n      <td>S</td>\n    </tr>\n    <tr>\n      <th>...</th>\n      <td>...</td>\n      <td>...</td>\n      <td>...</td>\n      <td>...</td>\n      <td>...</td>\n      <td>...</td>\n      <td>...</td>\n      <td>...</td>\n      <td>...</td>\n      <td>...</td>\n      <td>...</td>\n      <td>...</td>\n    </tr>\n    <tr>\n      <th>886</th>\n      <td>887</td>\n      <td>0</td>\n      <td>2</td>\n      <td>Montvila, Rev. Juozas</td>\n      <td>male</td>\n      <td>27.0</td>\n      <td>0</td>\n      <td>0</td>\n      <td>211536</td>\n      <td>13.0000</td>\n      <td>NaN</td>\n      <td>S</td>\n    </tr>\n    <tr>\n      <th>887</th>\n      <td>888</td>\n      <td>1</td>\n      <td>1</td>\n      <td>Graham, Miss. Margaret Edith</td>\n      <td>female</td>\n      <td>19.0</td>\n      <td>0</td>\n      <td>0</td>\n      <td>112053</td>\n      <td>30.0000</td>\n      <td>B42</td>\n      <td>S</td>\n    </tr>\n    <tr>\n      <th>888</th>\n      <td>889</td>\n      <td>0</td>\n      <td>3</td>\n      <td>Johnston, Miss. Catherine Helen \"Carrie\"</td>\n      <td>female</td>\n      <td>NaN</td>\n      <td>1</td>\n      <td>2</td>\n      <td>W./C. 6607</td>\n      <td>23.4500</td>\n      <td>NaN</td>\n      <td>S</td>\n    </tr>\n    <tr>\n      <th>889</th>\n      <td>890</td>\n      <td>1</td>\n      <td>1</td>\n      <td>Behr, Mr. Karl Howell</td>\n      <td>male</td>\n      <td>26.0</td>\n      <td>0</td>\n      <td>0</td>\n      <td>111369</td>\n      <td>30.0000</td>\n      <td>C148</td>\n      <td>C</td>\n    </tr>\n    <tr>\n      <th>890</th>\n      <td>891</td>\n      <td>0</td>\n      <td>3</td>\n      <td>Dooley, Mr. Patrick</td>\n      <td>male</td>\n      <td>32.0</td>\n      <td>0</td>\n      <td>0</td>\n      <td>370376</td>\n      <td>7.7500</td>\n      <td>NaN</td>\n      <td>Q</td>\n    </tr>\n  </tbody>\n</table>\n<p>891 rows × 12 columns</p>\n</div>"
     },
     "metadata": {},
     "execution_count": 896
    }
   ],
   "source": [
    "import numpy as np\n",
    "import pandas as pd\n",
    "import seaborn as sns\n",
    "import matplotlib.pyplot as plt\n",
    "import seaborn as sns\n",
    "\n",
    "df = pd.read_csv(\"train.csv\")\n",
    "df"
   ]
  },
  {
   "cell_type": "code",
   "execution_count": 897,
   "metadata": {},
   "outputs": [],
   "source": [
    "df['Family_number'] = df.SibSp + df.Parch + 1"
   ]
  },
  {
   "cell_type": "code",
   "execution_count": 898,
   "metadata": {},
   "outputs": [],
   "source": [
    "df['Sex'] = df['Sex'].apply(lambda x : 1 if x == \"male\" else 0)"
   ]
  },
  {
   "cell_type": "code",
   "execution_count": 899,
   "metadata": {},
   "outputs": [
    {
     "output_type": "execute_result",
     "data": {
      "text/plain": [
       "     PassengerId  Survived  Pclass                                      Name  \\\n",
       "5              6         0       3                          Moran, Mr. James   \n",
       "17            18         1       2              Williams, Mr. Charles Eugene   \n",
       "19            20         1       3                   Masselmani, Mrs. Fatima   \n",
       "26            27         0       3                   Emir, Mr. Farred Chehab   \n",
       "28            29         1       3             O'Dwyer, Miss. Ellen \"Nellie\"   \n",
       "..           ...       ...     ...                                       ...   \n",
       "859          860         0       3                          Razi, Mr. Raihed   \n",
       "863          864         0       3         Sage, Miss. Dorothy Edith \"Dolly\"   \n",
       "868          869         0       3               van Melkebeke, Mr. Philemon   \n",
       "878          879         0       3                        Laleff, Mr. Kristo   \n",
       "888          889         0       3  Johnston, Miss. Catherine Helen \"Carrie\"   \n",
       "\n",
       "     Sex  Age  SibSp  Parch      Ticket     Fare Cabin Embarked  Family_number  \n",
       "5      1  NaN      0      0      330877   8.4583   NaN        Q              1  \n",
       "17     1  NaN      0      0      244373  13.0000   NaN        S              1  \n",
       "19     0  NaN      0      0        2649   7.2250   NaN        C              1  \n",
       "26     1  NaN      0      0        2631   7.2250   NaN        C              1  \n",
       "28     0  NaN      0      0      330959   7.8792   NaN        Q              1  \n",
       "..   ...  ...    ...    ...         ...      ...   ...      ...            ...  \n",
       "859    1  NaN      0      0        2629   7.2292   NaN        C              1  \n",
       "863    0  NaN      8      2    CA. 2343  69.5500   NaN        S             11  \n",
       "868    1  NaN      0      0      345777   9.5000   NaN        S              1  \n",
       "878    1  NaN      0      0      349217   7.8958   NaN        S              1  \n",
       "888    0  NaN      1      2  W./C. 6607  23.4500   NaN        S              4  \n",
       "\n",
       "[177 rows x 13 columns]"
      ],
      "text/html": "<div>\n<style scoped>\n    .dataframe tbody tr th:only-of-type {\n        vertical-align: middle;\n    }\n\n    .dataframe tbody tr th {\n        vertical-align: top;\n    }\n\n    .dataframe thead th {\n        text-align: right;\n    }\n</style>\n<table border=\"1\" class=\"dataframe\">\n  <thead>\n    <tr style=\"text-align: right;\">\n      <th></th>\n      <th>PassengerId</th>\n      <th>Survived</th>\n      <th>Pclass</th>\n      <th>Name</th>\n      <th>Sex</th>\n      <th>Age</th>\n      <th>SibSp</th>\n      <th>Parch</th>\n      <th>Ticket</th>\n      <th>Fare</th>\n      <th>Cabin</th>\n      <th>Embarked</th>\n      <th>Family_number</th>\n    </tr>\n  </thead>\n  <tbody>\n    <tr>\n      <th>5</th>\n      <td>6</td>\n      <td>0</td>\n      <td>3</td>\n      <td>Moran, Mr. James</td>\n      <td>1</td>\n      <td>NaN</td>\n      <td>0</td>\n      <td>0</td>\n      <td>330877</td>\n      <td>8.4583</td>\n      <td>NaN</td>\n      <td>Q</td>\n      <td>1</td>\n    </tr>\n    <tr>\n      <th>17</th>\n      <td>18</td>\n      <td>1</td>\n      <td>2</td>\n      <td>Williams, Mr. Charles Eugene</td>\n      <td>1</td>\n      <td>NaN</td>\n      <td>0</td>\n      <td>0</td>\n      <td>244373</td>\n      <td>13.0000</td>\n      <td>NaN</td>\n      <td>S</td>\n      <td>1</td>\n    </tr>\n    <tr>\n      <th>19</th>\n      <td>20</td>\n      <td>1</td>\n      <td>3</td>\n      <td>Masselmani, Mrs. Fatima</td>\n      <td>0</td>\n      <td>NaN</td>\n      <td>0</td>\n      <td>0</td>\n      <td>2649</td>\n      <td>7.2250</td>\n      <td>NaN</td>\n      <td>C</td>\n      <td>1</td>\n    </tr>\n    <tr>\n      <th>26</th>\n      <td>27</td>\n      <td>0</td>\n      <td>3</td>\n      <td>Emir, Mr. Farred Chehab</td>\n      <td>1</td>\n      <td>NaN</td>\n      <td>0</td>\n      <td>0</td>\n      <td>2631</td>\n      <td>7.2250</td>\n      <td>NaN</td>\n      <td>C</td>\n      <td>1</td>\n    </tr>\n    <tr>\n      <th>28</th>\n      <td>29</td>\n      <td>1</td>\n      <td>3</td>\n      <td>O'Dwyer, Miss. Ellen \"Nellie\"</td>\n      <td>0</td>\n      <td>NaN</td>\n      <td>0</td>\n      <td>0</td>\n      <td>330959</td>\n      <td>7.8792</td>\n      <td>NaN</td>\n      <td>Q</td>\n      <td>1</td>\n    </tr>\n    <tr>\n      <th>...</th>\n      <td>...</td>\n      <td>...</td>\n      <td>...</td>\n      <td>...</td>\n      <td>...</td>\n      <td>...</td>\n      <td>...</td>\n      <td>...</td>\n      <td>...</td>\n      <td>...</td>\n      <td>...</td>\n      <td>...</td>\n      <td>...</td>\n    </tr>\n    <tr>\n      <th>859</th>\n      <td>860</td>\n      <td>0</td>\n      <td>3</td>\n      <td>Razi, Mr. Raihed</td>\n      <td>1</td>\n      <td>NaN</td>\n      <td>0</td>\n      <td>0</td>\n      <td>2629</td>\n      <td>7.2292</td>\n      <td>NaN</td>\n      <td>C</td>\n      <td>1</td>\n    </tr>\n    <tr>\n      <th>863</th>\n      <td>864</td>\n      <td>0</td>\n      <td>3</td>\n      <td>Sage, Miss. Dorothy Edith \"Dolly\"</td>\n      <td>0</td>\n      <td>NaN</td>\n      <td>8</td>\n      <td>2</td>\n      <td>CA. 2343</td>\n      <td>69.5500</td>\n      <td>NaN</td>\n      <td>S</td>\n      <td>11</td>\n    </tr>\n    <tr>\n      <th>868</th>\n      <td>869</td>\n      <td>0</td>\n      <td>3</td>\n      <td>van Melkebeke, Mr. Philemon</td>\n      <td>1</td>\n      <td>NaN</td>\n      <td>0</td>\n      <td>0</td>\n      <td>345777</td>\n      <td>9.5000</td>\n      <td>NaN</td>\n      <td>S</td>\n      <td>1</td>\n    </tr>\n    <tr>\n      <th>878</th>\n      <td>879</td>\n      <td>0</td>\n      <td>3</td>\n      <td>Laleff, Mr. Kristo</td>\n      <td>1</td>\n      <td>NaN</td>\n      <td>0</td>\n      <td>0</td>\n      <td>349217</td>\n      <td>7.8958</td>\n      <td>NaN</td>\n      <td>S</td>\n      <td>1</td>\n    </tr>\n    <tr>\n      <th>888</th>\n      <td>889</td>\n      <td>0</td>\n      <td>3</td>\n      <td>Johnston, Miss. Catherine Helen \"Carrie\"</td>\n      <td>0</td>\n      <td>NaN</td>\n      <td>1</td>\n      <td>2</td>\n      <td>W./C. 6607</td>\n      <td>23.4500</td>\n      <td>NaN</td>\n      <td>S</td>\n      <td>4</td>\n    </tr>\n  </tbody>\n</table>\n<p>177 rows × 13 columns</p>\n</div>"
     },
     "metadata": {},
     "execution_count": 899
    }
   ],
   "source": [
    "df[df.Age.isnull()]"
   ]
  },
  {
   "cell_type": "code",
   "execution_count": 900,
   "metadata": {},
   "outputs": [
    {
     "output_type": "stream",
     "name": "stdout",
     "text": [
      "32.368090452261306\n35\n21.773972602739725\n4.574166666666667\n"
     ]
    }
   ],
   "source": [
    "print(df[df.Name.str.match(r'(^.*Mr\\..*)') == True].Age.mean())\n",
    "print(int(df[df.Name.str.match(r'(^.*Mrs\\..*)') == True].Age.mean()))\n",
    "print(df[df.Name.str.match(r'(^.*Miss\\..*)') == True].Age.mean())\n",
    "print(df[df.Name.str.match(r'(^.*Master\\..*)') == True].Age.mean())"
   ]
  },
  {
   "cell_type": "code",
   "execution_count": 901,
   "metadata": {},
   "outputs": [],
   "source": [
    "def age_fill(df):\n",
    "\n",
    "    mean_mrs = int(df[df.Name.str.match(r'(^.*Mrs\\..*)') == True].Age.mean()) \n",
    "    mean_mr = int(df[df.Name.str.match(r'(^.*Mr\\..*)') == True].Age.mean())\n",
    "    mean_miss = int(df[df.Name.str.match(r'(^.*Miss\\..*)') == True].Age.mean())\n",
    "    mean_master = int(df[df.Name.str.match(r'(^.*Master\\..*)') == True].Age.mean())\n",
    "\n",
    "    print(mean_master)\n",
    "\n",
    "    for index, row in df.iterrows(): \n",
    "        if pd.isna(row.Age) :\n",
    "            print(\"null\")\n",
    "            if 'Master.' in row.Name :\n",
    "                row.Age = mean_master\n",
    "                print(row.Age)\n",
    "            elif 'Miss.' in row.Name :\n",
    "                row.Age = mean_miss\n",
    "                print(row.Age)\n",
    "            elif 'Mrs.' in row.Name :\n",
    "                row.Age = mean_mrs\n",
    "                print(row.Age)\n",
    "            else :\n",
    "                row.Age = mean_mr\n",
    "                print(row.Age)\n",
    "    \n",
    "    return df\n",
    "\n",
    "\n",
    "#for index, row in df.iterrows(): \n",
    "#    if pd.isnull(row.Age) :\n",
    "#        if row.Name.str.match(r'(^.*Master\\..*)') == True :\n",
    "#            row.Age =  mean_master\n",
    "#        elif row.Name.str.match(r'(^.*Miss\\..*)') == True :\n",
    "#            row.Age = mean_miss\n",
    "#        elif row.Name.str.match(r'(^.*Mrs\\..*)') == True :\n",
    "#            row.Age = mean_mrs\n",
    "#        else :\n",
    "#            row.Age = mean_mr\n",
    "\n",
    "\n"
   ]
  },
  {
   "cell_type": "code",
   "execution_count": 902,
   "metadata": {},
   "outputs": [],
   "source": [
    "mean_mrs = int(df[df.Name.str.match(r'(^.*Mrs\\..*)') == True].Age.mean()) \n",
    "mean_mr = int(df[df.Name.str.match(r'(^.*Mr\\..*)') == True].Age.mean())\n",
    "mean_miss = int(df[df.Name.str.match(r'(^.*Miss\\..*)') == True].Age.mean())\n",
    "mean_master = int(df[df.Name.str.match(r'(^.*Master\\..*)') == True].Age.mean())\n",
    "\n",
    "#df[(df.Name.str.match(r'(^.*Master\\..*)') == True) & pd.isna(df.Age) ].Age = mean_master\n",
    "\n",
    "#df.loc[5]['Age'] = 10\n",
    "#df.loc[df['PassengerId'] == 6, ['Age']] = 10\n",
    "#df.loc[5]['Age']\n",
    "\n",
    "### to try and understand why it modify the dataframe\n",
    "#\n",
    "# df.loc[df['PassengerId'] == 6, ['Age']] = 10\n",
    "#\n",
    "# df.loc[5, 'Age']=10\n",
    "\n",
    "df.loc[df[\"Age\"].isnull() & df.Name.str.match(r'(^.*Mr\\..*)') == True , \"Age\"] = mean_mr\n",
    "df.loc[df[\"Age\"].isnull() & df.Name.str.match(r'(^.*Dr\\..*)') == True , \"Age\"] = mean_mr\n",
    "df.loc[df[\"Age\"].isnull() & df.Name.str.match(r'(^.*Mrs\\..*)') == True , \"Age\"] = mean_mrs\n",
    "df.loc[df[\"Age\"].isnull() & df.Name.str.match(r'(^.*Master\\..*)') == True , \"Age\"] = mean_master\n",
    "df.loc[df[\"Age\"].isnull() & df.Name.str.match(r'(^.*Miss\\..*)') == True , \"Age\"] = mean_miss\n"
   ]
  },
  {
   "cell_type": "code",
   "execution_count": 903,
   "metadata": {},
   "outputs": [],
   "source": [
    "df['Dr'] = 0\n",
    "df['Mr'] = 0\n",
    "df['Mrs'] = 0\n",
    "df['Master'] = 0\n",
    "df['Miss'] = 0\n",
    "\n",
    "df.loc[df.Name.str.match(r'(^.*Mr\\..*)') == True , \"Mr\"] = 1\n",
    "df.loc[df.Name.str.match(r'(^.*Dr\\..*)') == True , \"Dr\"] = 1\n",
    "df.loc[df.Name.str.match(r'(^.*Mrs\\..*)') == True , \"Mrs\"] = 1\n",
    "df.loc[df.Name.str.match(r'(^.*Master\\..*)') == True , \"Master\"] = 1\n",
    "df.loc[df.Name.str.match(r'(^.*Miss\\..*)') == True , \"Miss\"] = 1"
   ]
  },
  {
   "cell_type": "code",
   "execution_count": 904,
   "metadata": {},
   "outputs": [
    {
     "output_type": "execute_result",
     "data": {
      "text/plain": [
       "     PassengerId  Survived  Pclass                           Name  Sex   Age  \\\n",
       "245          246         0       1    Minahan, Dr. William Edward    1  44.0   \n",
       "317          318         0       2           Moraweck, Dr. Ernest    1  54.0   \n",
       "398          399         0       2               Pain, Dr. Alfred    1  23.0   \n",
       "632          633         1       1      Stahelin-Maeglin, Dr. Max    1  32.0   \n",
       "660          661         1       1  Frauenthal, Dr. Henry William    1  50.0   \n",
       "766          767         0       1      Brewe, Dr. Arthur Jackson    1  32.0   \n",
       "796          797         1       1    Leader, Dr. Alice (Farnham)    0  49.0   \n",
       "\n",
       "     SibSp  Parch    Ticket      Fare Cabin Embarked  Family_number  Dr  Mr  \\\n",
       "245      2      0     19928   90.0000   C78        Q              3   1   0   \n",
       "317      0      0     29011   14.0000   NaN        S              1   1   0   \n",
       "398      0      0    244278   10.5000   NaN        S              1   1   0   \n",
       "632      0      0     13214   30.5000   B50        C              1   1   0   \n",
       "660      2      0  PC 17611  133.6500   NaN        S              3   1   0   \n",
       "766      0      0    112379   39.6000   NaN        C              1   1   0   \n",
       "796      0      0     17465   25.9292   D17        S              1   1   0   \n",
       "\n",
       "     Mrs  Master  Miss  \n",
       "245    0       0     0  \n",
       "317    0       0     0  \n",
       "398    0       0     0  \n",
       "632    0       0     0  \n",
       "660    0       0     0  \n",
       "766    0       0     0  \n",
       "796    0       0     0  "
      ],
      "text/html": "<div>\n<style scoped>\n    .dataframe tbody tr th:only-of-type {\n        vertical-align: middle;\n    }\n\n    .dataframe tbody tr th {\n        vertical-align: top;\n    }\n\n    .dataframe thead th {\n        text-align: right;\n    }\n</style>\n<table border=\"1\" class=\"dataframe\">\n  <thead>\n    <tr style=\"text-align: right;\">\n      <th></th>\n      <th>PassengerId</th>\n      <th>Survived</th>\n      <th>Pclass</th>\n      <th>Name</th>\n      <th>Sex</th>\n      <th>Age</th>\n      <th>SibSp</th>\n      <th>Parch</th>\n      <th>Ticket</th>\n      <th>Fare</th>\n      <th>Cabin</th>\n      <th>Embarked</th>\n      <th>Family_number</th>\n      <th>Dr</th>\n      <th>Mr</th>\n      <th>Mrs</th>\n      <th>Master</th>\n      <th>Miss</th>\n    </tr>\n  </thead>\n  <tbody>\n    <tr>\n      <th>245</th>\n      <td>246</td>\n      <td>0</td>\n      <td>1</td>\n      <td>Minahan, Dr. William Edward</td>\n      <td>1</td>\n      <td>44.0</td>\n      <td>2</td>\n      <td>0</td>\n      <td>19928</td>\n      <td>90.0000</td>\n      <td>C78</td>\n      <td>Q</td>\n      <td>3</td>\n      <td>1</td>\n      <td>0</td>\n      <td>0</td>\n      <td>0</td>\n      <td>0</td>\n    </tr>\n    <tr>\n      <th>317</th>\n      <td>318</td>\n      <td>0</td>\n      <td>2</td>\n      <td>Moraweck, Dr. Ernest</td>\n      <td>1</td>\n      <td>54.0</td>\n      <td>0</td>\n      <td>0</td>\n      <td>29011</td>\n      <td>14.0000</td>\n      <td>NaN</td>\n      <td>S</td>\n      <td>1</td>\n      <td>1</td>\n      <td>0</td>\n      <td>0</td>\n      <td>0</td>\n      <td>0</td>\n    </tr>\n    <tr>\n      <th>398</th>\n      <td>399</td>\n      <td>0</td>\n      <td>2</td>\n      <td>Pain, Dr. Alfred</td>\n      <td>1</td>\n      <td>23.0</td>\n      <td>0</td>\n      <td>0</td>\n      <td>244278</td>\n      <td>10.5000</td>\n      <td>NaN</td>\n      <td>S</td>\n      <td>1</td>\n      <td>1</td>\n      <td>0</td>\n      <td>0</td>\n      <td>0</td>\n      <td>0</td>\n    </tr>\n    <tr>\n      <th>632</th>\n      <td>633</td>\n      <td>1</td>\n      <td>1</td>\n      <td>Stahelin-Maeglin, Dr. Max</td>\n      <td>1</td>\n      <td>32.0</td>\n      <td>0</td>\n      <td>0</td>\n      <td>13214</td>\n      <td>30.5000</td>\n      <td>B50</td>\n      <td>C</td>\n      <td>1</td>\n      <td>1</td>\n      <td>0</td>\n      <td>0</td>\n      <td>0</td>\n      <td>0</td>\n    </tr>\n    <tr>\n      <th>660</th>\n      <td>661</td>\n      <td>1</td>\n      <td>1</td>\n      <td>Frauenthal, Dr. Henry William</td>\n      <td>1</td>\n      <td>50.0</td>\n      <td>2</td>\n      <td>0</td>\n      <td>PC 17611</td>\n      <td>133.6500</td>\n      <td>NaN</td>\n      <td>S</td>\n      <td>3</td>\n      <td>1</td>\n      <td>0</td>\n      <td>0</td>\n      <td>0</td>\n      <td>0</td>\n    </tr>\n    <tr>\n      <th>766</th>\n      <td>767</td>\n      <td>0</td>\n      <td>1</td>\n      <td>Brewe, Dr. Arthur Jackson</td>\n      <td>1</td>\n      <td>32.0</td>\n      <td>0</td>\n      <td>0</td>\n      <td>112379</td>\n      <td>39.6000</td>\n      <td>NaN</td>\n      <td>C</td>\n      <td>1</td>\n      <td>1</td>\n      <td>0</td>\n      <td>0</td>\n      <td>0</td>\n      <td>0</td>\n    </tr>\n    <tr>\n      <th>796</th>\n      <td>797</td>\n      <td>1</td>\n      <td>1</td>\n      <td>Leader, Dr. Alice (Farnham)</td>\n      <td>0</td>\n      <td>49.0</td>\n      <td>0</td>\n      <td>0</td>\n      <td>17465</td>\n      <td>25.9292</td>\n      <td>D17</td>\n      <td>S</td>\n      <td>1</td>\n      <td>1</td>\n      <td>0</td>\n      <td>0</td>\n      <td>0</td>\n      <td>0</td>\n    </tr>\n  </tbody>\n</table>\n</div>"
     },
     "metadata": {},
     "execution_count": 904
    }
   ],
   "source": [
    "df.loc[df.Name.str.match(r'(^.*Dr\\..*)') == True]"
   ]
  },
  {
   "cell_type": "code",
   "execution_count": 905,
   "metadata": {},
   "outputs": [
    {
     "output_type": "execute_result",
     "data": {
      "text/plain": [
       "     Survived  Pclass  Sex   Age     Fare  Family_number  Dr  Mr  Mrs  Master  \\\n",
       "0           0       3    1  22.0   7.2500              2   0   1    0       0   \n",
       "1           1       1    0  38.0  71.2833              2   0   0    1       0   \n",
       "2           1       3    0  26.0   7.9250              1   0   0    0       0   \n",
       "3           1       1    0  35.0  53.1000              2   0   0    1       0   \n",
       "4           0       3    1  35.0   8.0500              1   0   1    0       0   \n",
       "..        ...     ...  ...   ...      ...            ...  ..  ..  ...     ...   \n",
       "886         0       2    1  27.0  13.0000              1   0   0    0       0   \n",
       "887         1       1    0  19.0  30.0000              1   0   0    0       0   \n",
       "888         0       3    0  21.0  23.4500              4   0   0    0       0   \n",
       "889         1       1    1  26.0  30.0000              1   0   1    0       0   \n",
       "890         0       3    1  32.0   7.7500              1   0   1    0       0   \n",
       "\n",
       "     Miss  \n",
       "0       0  \n",
       "1       0  \n",
       "2       1  \n",
       "3       0  \n",
       "4       0  \n",
       "..    ...  \n",
       "886     0  \n",
       "887     1  \n",
       "888     1  \n",
       "889     0  \n",
       "890     0  \n",
       "\n",
       "[891 rows x 11 columns]"
      ],
      "text/html": "<div>\n<style scoped>\n    .dataframe tbody tr th:only-of-type {\n        vertical-align: middle;\n    }\n\n    .dataframe tbody tr th {\n        vertical-align: top;\n    }\n\n    .dataframe thead th {\n        text-align: right;\n    }\n</style>\n<table border=\"1\" class=\"dataframe\">\n  <thead>\n    <tr style=\"text-align: right;\">\n      <th></th>\n      <th>Survived</th>\n      <th>Pclass</th>\n      <th>Sex</th>\n      <th>Age</th>\n      <th>Fare</th>\n      <th>Family_number</th>\n      <th>Dr</th>\n      <th>Mr</th>\n      <th>Mrs</th>\n      <th>Master</th>\n      <th>Miss</th>\n    </tr>\n  </thead>\n  <tbody>\n    <tr>\n      <th>0</th>\n      <td>0</td>\n      <td>3</td>\n      <td>1</td>\n      <td>22.0</td>\n      <td>7.2500</td>\n      <td>2</td>\n      <td>0</td>\n      <td>1</td>\n      <td>0</td>\n      <td>0</td>\n      <td>0</td>\n    </tr>\n    <tr>\n      <th>1</th>\n      <td>1</td>\n      <td>1</td>\n      <td>0</td>\n      <td>38.0</td>\n      <td>71.2833</td>\n      <td>2</td>\n      <td>0</td>\n      <td>0</td>\n      <td>1</td>\n      <td>0</td>\n      <td>0</td>\n    </tr>\n    <tr>\n      <th>2</th>\n      <td>1</td>\n      <td>3</td>\n      <td>0</td>\n      <td>26.0</td>\n      <td>7.9250</td>\n      <td>1</td>\n      <td>0</td>\n      <td>0</td>\n      <td>0</td>\n      <td>0</td>\n      <td>1</td>\n    </tr>\n    <tr>\n      <th>3</th>\n      <td>1</td>\n      <td>1</td>\n      <td>0</td>\n      <td>35.0</td>\n      <td>53.1000</td>\n      <td>2</td>\n      <td>0</td>\n      <td>0</td>\n      <td>1</td>\n      <td>0</td>\n      <td>0</td>\n    </tr>\n    <tr>\n      <th>4</th>\n      <td>0</td>\n      <td>3</td>\n      <td>1</td>\n      <td>35.0</td>\n      <td>8.0500</td>\n      <td>1</td>\n      <td>0</td>\n      <td>1</td>\n      <td>0</td>\n      <td>0</td>\n      <td>0</td>\n    </tr>\n    <tr>\n      <th>...</th>\n      <td>...</td>\n      <td>...</td>\n      <td>...</td>\n      <td>...</td>\n      <td>...</td>\n      <td>...</td>\n      <td>...</td>\n      <td>...</td>\n      <td>...</td>\n      <td>...</td>\n      <td>...</td>\n    </tr>\n    <tr>\n      <th>886</th>\n      <td>0</td>\n      <td>2</td>\n      <td>1</td>\n      <td>27.0</td>\n      <td>13.0000</td>\n      <td>1</td>\n      <td>0</td>\n      <td>0</td>\n      <td>0</td>\n      <td>0</td>\n      <td>0</td>\n    </tr>\n    <tr>\n      <th>887</th>\n      <td>1</td>\n      <td>1</td>\n      <td>0</td>\n      <td>19.0</td>\n      <td>30.0000</td>\n      <td>1</td>\n      <td>0</td>\n      <td>0</td>\n      <td>0</td>\n      <td>0</td>\n      <td>1</td>\n    </tr>\n    <tr>\n      <th>888</th>\n      <td>0</td>\n      <td>3</td>\n      <td>0</td>\n      <td>21.0</td>\n      <td>23.4500</td>\n      <td>4</td>\n      <td>0</td>\n      <td>0</td>\n      <td>0</td>\n      <td>0</td>\n      <td>1</td>\n    </tr>\n    <tr>\n      <th>889</th>\n      <td>1</td>\n      <td>1</td>\n      <td>1</td>\n      <td>26.0</td>\n      <td>30.0000</td>\n      <td>1</td>\n      <td>0</td>\n      <td>1</td>\n      <td>0</td>\n      <td>0</td>\n      <td>0</td>\n    </tr>\n    <tr>\n      <th>890</th>\n      <td>0</td>\n      <td>3</td>\n      <td>1</td>\n      <td>32.0</td>\n      <td>7.7500</td>\n      <td>1</td>\n      <td>0</td>\n      <td>1</td>\n      <td>0</td>\n      <td>0</td>\n      <td>0</td>\n    </tr>\n  </tbody>\n</table>\n<p>891 rows × 11 columns</p>\n</div>"
     },
     "metadata": {},
     "execution_count": 905
    }
   ],
   "source": [
    "col_name_delete = [ 'PassengerId', 'Name', 'Ticket', 'Cabin', 'Embarked', 'SibSp', 'Parch']\n",
    "df = df.drop(columns=col_name_delete)\n",
    "df"
   ]
  },
  {
   "cell_type": "code",
   "execution_count": 906,
   "metadata": {},
   "outputs": [
    {
     "output_type": "execute_result",
     "data": {
      "text/plain": [
       "Survived         0\n",
       "Pclass           0\n",
       "Sex              0\n",
       "Age              0\n",
       "Fare             0\n",
       "Family_number    0\n",
       "Dr               0\n",
       "Mr               0\n",
       "Mrs              0\n",
       "Master           0\n",
       "Miss             0\n",
       "dtype: int64"
      ]
     },
     "metadata": {},
     "execution_count": 906
    }
   ],
   "source": [
    "df.isnull().sum()"
   ]
  },
  {
   "cell_type": "code",
   "execution_count": 907,
   "metadata": {},
   "outputs": [
    {
     "output_type": "execute_result",
     "data": {
      "text/plain": [
       "     Survived  Pclass  Sex   Age     Fare  Family_number  Dr  Mr  Mrs  Master  \\\n",
       "0           0       3    1  22.0   7.2500              2   0   1    0       0   \n",
       "1           1       1    0  38.0  71.2833              2   0   0    1       0   \n",
       "2           1       3    0  26.0   7.9250              1   0   0    0       0   \n",
       "3           1       1    0  35.0  53.1000              2   0   0    1       0   \n",
       "4           0       3    1  35.0   8.0500              1   0   1    0       0   \n",
       "..        ...     ...  ...   ...      ...            ...  ..  ..  ...     ...   \n",
       "886         0       2    1  27.0  13.0000              1   0   0    0       0   \n",
       "887         1       1    0  19.0  30.0000              1   0   0    0       0   \n",
       "888         0       3    0  21.0  23.4500              4   0   0    0       0   \n",
       "889         1       1    1  26.0  30.0000              1   0   1    0       0   \n",
       "890         0       3    1  32.0   7.7500              1   0   1    0       0   \n",
       "\n",
       "     Miss  \n",
       "0       0  \n",
       "1       0  \n",
       "2       1  \n",
       "3       0  \n",
       "4       0  \n",
       "..    ...  \n",
       "886     0  \n",
       "887     1  \n",
       "888     1  \n",
       "889     0  \n",
       "890     0  \n",
       "\n",
       "[891 rows x 11 columns]"
      ],
      "text/html": "<div>\n<style scoped>\n    .dataframe tbody tr th:only-of-type {\n        vertical-align: middle;\n    }\n\n    .dataframe tbody tr th {\n        vertical-align: top;\n    }\n\n    .dataframe thead th {\n        text-align: right;\n    }\n</style>\n<table border=\"1\" class=\"dataframe\">\n  <thead>\n    <tr style=\"text-align: right;\">\n      <th></th>\n      <th>Survived</th>\n      <th>Pclass</th>\n      <th>Sex</th>\n      <th>Age</th>\n      <th>Fare</th>\n      <th>Family_number</th>\n      <th>Dr</th>\n      <th>Mr</th>\n      <th>Mrs</th>\n      <th>Master</th>\n      <th>Miss</th>\n    </tr>\n  </thead>\n  <tbody>\n    <tr>\n      <th>0</th>\n      <td>0</td>\n      <td>3</td>\n      <td>1</td>\n      <td>22.0</td>\n      <td>7.2500</td>\n      <td>2</td>\n      <td>0</td>\n      <td>1</td>\n      <td>0</td>\n      <td>0</td>\n      <td>0</td>\n    </tr>\n    <tr>\n      <th>1</th>\n      <td>1</td>\n      <td>1</td>\n      <td>0</td>\n      <td>38.0</td>\n      <td>71.2833</td>\n      <td>2</td>\n      <td>0</td>\n      <td>0</td>\n      <td>1</td>\n      <td>0</td>\n      <td>0</td>\n    </tr>\n    <tr>\n      <th>2</th>\n      <td>1</td>\n      <td>3</td>\n      <td>0</td>\n      <td>26.0</td>\n      <td>7.9250</td>\n      <td>1</td>\n      <td>0</td>\n      <td>0</td>\n      <td>0</td>\n      <td>0</td>\n      <td>1</td>\n    </tr>\n    <tr>\n      <th>3</th>\n      <td>1</td>\n      <td>1</td>\n      <td>0</td>\n      <td>35.0</td>\n      <td>53.1000</td>\n      <td>2</td>\n      <td>0</td>\n      <td>0</td>\n      <td>1</td>\n      <td>0</td>\n      <td>0</td>\n    </tr>\n    <tr>\n      <th>4</th>\n      <td>0</td>\n      <td>3</td>\n      <td>1</td>\n      <td>35.0</td>\n      <td>8.0500</td>\n      <td>1</td>\n      <td>0</td>\n      <td>1</td>\n      <td>0</td>\n      <td>0</td>\n      <td>0</td>\n    </tr>\n    <tr>\n      <th>...</th>\n      <td>...</td>\n      <td>...</td>\n      <td>...</td>\n      <td>...</td>\n      <td>...</td>\n      <td>...</td>\n      <td>...</td>\n      <td>...</td>\n      <td>...</td>\n      <td>...</td>\n      <td>...</td>\n    </tr>\n    <tr>\n      <th>886</th>\n      <td>0</td>\n      <td>2</td>\n      <td>1</td>\n      <td>27.0</td>\n      <td>13.0000</td>\n      <td>1</td>\n      <td>0</td>\n      <td>0</td>\n      <td>0</td>\n      <td>0</td>\n      <td>0</td>\n    </tr>\n    <tr>\n      <th>887</th>\n      <td>1</td>\n      <td>1</td>\n      <td>0</td>\n      <td>19.0</td>\n      <td>30.0000</td>\n      <td>1</td>\n      <td>0</td>\n      <td>0</td>\n      <td>0</td>\n      <td>0</td>\n      <td>1</td>\n    </tr>\n    <tr>\n      <th>888</th>\n      <td>0</td>\n      <td>3</td>\n      <td>0</td>\n      <td>21.0</td>\n      <td>23.4500</td>\n      <td>4</td>\n      <td>0</td>\n      <td>0</td>\n      <td>0</td>\n      <td>0</td>\n      <td>1</td>\n    </tr>\n    <tr>\n      <th>889</th>\n      <td>1</td>\n      <td>1</td>\n      <td>1</td>\n      <td>26.0</td>\n      <td>30.0000</td>\n      <td>1</td>\n      <td>0</td>\n      <td>1</td>\n      <td>0</td>\n      <td>0</td>\n      <td>0</td>\n    </tr>\n    <tr>\n      <th>890</th>\n      <td>0</td>\n      <td>3</td>\n      <td>1</td>\n      <td>32.0</td>\n      <td>7.7500</td>\n      <td>1</td>\n      <td>0</td>\n      <td>1</td>\n      <td>0</td>\n      <td>0</td>\n      <td>0</td>\n    </tr>\n  </tbody>\n</table>\n<p>891 rows × 11 columns</p>\n</div>"
     },
     "metadata": {},
     "execution_count": 907
    }
   ],
   "source": [
    "df"
   ]
  },
  {
   "cell_type": "code",
   "execution_count": 908,
   "metadata": {},
   "outputs": [],
   "source": [
    "# Add your code to analyse the data here: ---> ???"
   ]
  },
  {
   "cell_type": "code",
   "execution_count": 909,
   "metadata": {},
   "outputs": [],
   "source": [
    "#Create feature and target\n",
    "\n",
    "X= df.drop('Survived',axis=1) \n",
    "y= df[['Survived']] "
   ]
  },
  {
   "cell_type": "code",
   "execution_count": 910,
   "metadata": {},
   "outputs": [
    {
     "output_type": "stream",
     "name": "stdout",
     "text": [
      "(891, 10)\n(891, 1)\n"
     ]
    }
   ],
   "source": [
    "print(X.shape)\n",
    "print(y.shape)"
   ]
  },
  {
   "cell_type": "code",
   "execution_count": 911,
   "metadata": {},
   "outputs": [],
   "source": [
    "#scale the features\n",
    "from sklearn.preprocessing import StandardScaler\n",
    "\n",
    "sc = StandardScaler()\n",
    "\n",
    "X = sc.fit_transform(X)"
   ]
  },
  {
   "cell_type": "code",
   "execution_count": 912,
   "metadata": {},
   "outputs": [
    {
     "output_type": "execute_result",
     "data": {
      "text/plain": [
       "LogisticRegression()"
      ]
     },
     "metadata": {},
     "execution_count": 912
    }
   ],
   "source": [
    "# Import the model\n",
    "from sklearn.linear_model import LogisticRegression\n",
    "# Declare an instance of it\n",
    "classifier = LogisticRegression(solver='lbfgs')\n",
    "# Fit the model\n",
    "classifier.fit(X,y)"
   ]
  },
  {
   "cell_type": "code",
   "execution_count": 913,
   "metadata": {},
   "outputs": [],
   "source": [
    "df_test = pd.read_csv(\"test.csv\")\n",
    "\n",
    "df_prediction = pd.DataFrame()\n",
    "df_prediction['PassengerId'] = df_test['PassengerId']"
   ]
  },
  {
   "cell_type": "code",
   "execution_count": 914,
   "metadata": {},
   "outputs": [
    {
     "output_type": "execute_result",
     "data": {
      "text/plain": [
       "Pclass            3.00000\n",
       "Sex               1.00000\n",
       "Age              60.50000\n",
       "Fare             13.67555\n",
       "Family_number     1.00000\n",
       "Dr                0.00000\n",
       "Mr                1.00000\n",
       "Mrs               0.00000\n",
       "Master            0.00000\n",
       "Miss              0.00000\n",
       "Name: 152, dtype: float64"
      ]
     },
     "metadata": {},
     "execution_count": 914
    }
   ],
   "source": [
    "#CLEAN TEST DATA\n",
    "\n",
    "df_test['Family_number'] = df_test.SibSp + df_test.Parch + 1\n",
    "df_test['Sex'] = df_test['Sex'].apply(lambda x : 1 if x == \"male\" else 0)\n",
    "\n",
    "\n",
    "df_test.loc[df_test[\"Age\"].isnull() & df_test.Name.str.match(r'(^.*Mr\\..*)') == True , \"Age\"] = mean_mr\n",
    "df_test.loc[df_test[\"Age\"].isnull() & df_test.Name.str.match(r'(^.*Dr\\..*)') == True , \"Age\"] = mean_mr\n",
    "df_test.loc[df_test[\"Age\"].isnull() & df_test.Name.str.match(r'(^.*Mrs\\..*)') == True , \"Age\"] = mean_mrs\n",
    "df_test.loc[df_test[\"Age\"].isnull() & df_test.Name.str.match(r'(^.*Master\\..*)') == True , \"Age\"] = mean_master\n",
    "df_test.loc[df_test[\"Age\"].isnull() & df_test.Name.str.match(r'(^.*Miss\\..*)') == True , \"Age\"] = mean_miss\n",
    "\n",
    "\n",
    "df_test['Dr'] = 0\n",
    "df_test['Mr'] = 0\n",
    "df_test['Mrs'] = 0\n",
    "df_test['Master'] = 0\n",
    "df_test['Miss'] = 0\n",
    "\n",
    "df_test.loc[df_test.Name.str.match(r'(^.*Mr\\..*)') == True , \"Mr\"] = 1\n",
    "df_test.loc[df_test.Name.str.match(r'(^.*Dr\\..*)') == True , \"Dr\"] = 1\n",
    "df_test.loc[df_test.Name.str.match(r'(^.*Mrs\\..*)') == True , \"Mrs\"] = 1\n",
    "df_test.loc[df_test.Name.str.match(r'(^.*Master\\..*)') == True , \"Master\"] = 1\n",
    "df_test.loc[df_test.Name.str.match(r'(^.*Miss\\..*)') == True , \"Miss\"] = 1\n",
    "\n",
    "col_name_delete = [ 'PassengerId', 'Name', 'Ticket', 'Cabin', 'Embarked', 'SibSp', 'Parch']\n",
    "df_test = df_test.drop(columns=col_name_delete)\n",
    "\n",
    "\n",
    "# fill one age\n",
    "df_test[df_test['Age'].isnull()]\n",
    "df_test.loc[88,'Age'] = mean_mrs\n",
    "df_test.loc[88,'Mrs'] = 1\n",
    "df_test.iloc[88]\n",
    "\n",
    "#fill one fare\n",
    "df_test[df_test['Fare'].isnull()]\n",
    "df_test.loc[152,'Fare'] = df[df.Pclass == 3].Fare.mean()\n",
    "df_test.iloc[152]"
   ]
  },
  {
   "cell_type": "code",
   "execution_count": 915,
   "metadata": {},
   "outputs": [],
   "source": [
    "#scale the features\n",
    "from sklearn.preprocessing import StandardScaler\n",
    "\n",
    "sc = StandardScaler()\n",
    "\n",
    "X_test = sc.fit_transform(df_test)"
   ]
  },
  {
   "cell_type": "code",
   "execution_count": 916,
   "metadata": {},
   "outputs": [
    {
     "output_type": "execute_result",
     "data": {
      "text/plain": [
       "     PassengerId  Survived\n",
       "0            892         0\n",
       "1            893         1\n",
       "2            894         0\n",
       "3            895         0\n",
       "4            896         1\n",
       "..           ...       ...\n",
       "413         1305         0\n",
       "414         1306         1\n",
       "415         1307         0\n",
       "416         1308         0\n",
       "417         1309         1\n",
       "\n",
       "[418 rows x 2 columns]"
      ],
      "text/html": "<div>\n<style scoped>\n    .dataframe tbody tr th:only-of-type {\n        vertical-align: middle;\n    }\n\n    .dataframe tbody tr th {\n        vertical-align: top;\n    }\n\n    .dataframe thead th {\n        text-align: right;\n    }\n</style>\n<table border=\"1\" class=\"dataframe\">\n  <thead>\n    <tr style=\"text-align: right;\">\n      <th></th>\n      <th>PassengerId</th>\n      <th>Survived</th>\n    </tr>\n  </thead>\n  <tbody>\n    <tr>\n      <th>0</th>\n      <td>892</td>\n      <td>0</td>\n    </tr>\n    <tr>\n      <th>1</th>\n      <td>893</td>\n      <td>1</td>\n    </tr>\n    <tr>\n      <th>2</th>\n      <td>894</td>\n      <td>0</td>\n    </tr>\n    <tr>\n      <th>3</th>\n      <td>895</td>\n      <td>0</td>\n    </tr>\n    <tr>\n      <th>4</th>\n      <td>896</td>\n      <td>1</td>\n    </tr>\n    <tr>\n      <th>...</th>\n      <td>...</td>\n      <td>...</td>\n    </tr>\n    <tr>\n      <th>413</th>\n      <td>1305</td>\n      <td>0</td>\n    </tr>\n    <tr>\n      <th>414</th>\n      <td>1306</td>\n      <td>1</td>\n    </tr>\n    <tr>\n      <th>415</th>\n      <td>1307</td>\n      <td>0</td>\n    </tr>\n    <tr>\n      <th>416</th>\n      <td>1308</td>\n      <td>0</td>\n    </tr>\n    <tr>\n      <th>417</th>\n      <td>1309</td>\n      <td>1</td>\n    </tr>\n  </tbody>\n</table>\n<p>418 rows × 2 columns</p>\n</div>"
     },
     "metadata": {},
     "execution_count": 916
    }
   ],
   "source": [
    "# Evaluate the model\n",
    "prediction = classifier.predict(X_test)\n",
    "df_prediction['Survived'] = prediction\n",
    "df_prediction\n",
    "\n",
    "df_prediction.to_csv(\"Titanic_prediction_result_mikdom.csv\", index=False)\n",
    "df_prediction_read = pd.read_csv(\"Titanic_prediction_result_mikdom.csv\")\n",
    "df_prediction_read"
   ]
  }
 ]
}