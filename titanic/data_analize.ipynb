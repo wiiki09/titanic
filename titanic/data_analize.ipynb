{
 "metadata": {
  "language_info": {
   "codemirror_mode": {
    "name": "ipython",
    "version": 3
   },
   "file_extension": ".py",
   "mimetype": "text/x-python",
   "name": "python",
   "nbconvert_exporter": "python",
   "pygments_lexer": "ipython3",
   "version": "3.8.3-final"
  },
  "orig_nbformat": 2,
  "kernelspec": {
   "name": "python3",
   "display_name": "Python 3",
   "language": "python"
  }
 },
 "nbformat": 4,
 "nbformat_minor": 2,
 "cells": [
  {
   "cell_type": "code",
   "execution_count": 124,
   "metadata": {},
   "outputs": [],
   "source": [
    "import numpy as np\n",
    "import pandas as pd\n",
    "import seaborn as sns\n",
    "import matplotlib.pyplot as plt"
   ]
  },
  {
   "cell_type": "code",
   "execution_count": 59,
   "metadata": {},
   "outputs": [
    {
     "output_type": "execute_result",
     "data": {
      "text/plain": [
       "     PassengerId  Survived  Pclass  \\\n",
       "0              1         0       3   \n",
       "1              2         1       1   \n",
       "2              3         1       3   \n",
       "3              4         1       1   \n",
       "4              5         0       3   \n",
       "..           ...       ...     ...   \n",
       "886          887         0       2   \n",
       "887          888         1       1   \n",
       "888          889         0       3   \n",
       "889          890         1       1   \n",
       "890          891         0       3   \n",
       "\n",
       "                                                  Name     Sex   Age  SibSp  \\\n",
       "0                              Braund, Mr. Owen Harris    male  22.0      1   \n",
       "1    Cumings, Mrs. John Bradley (Florence Briggs Th...  female  38.0      1   \n",
       "2                               Heikkinen, Miss. Laina  female  26.0      0   \n",
       "3         Futrelle, Mrs. Jacques Heath (Lily May Peel)  female  35.0      1   \n",
       "4                             Allen, Mr. William Henry    male  35.0      0   \n",
       "..                                                 ...     ...   ...    ...   \n",
       "886                              Montvila, Rev. Juozas    male  27.0      0   \n",
       "887                       Graham, Miss. Margaret Edith  female  19.0      0   \n",
       "888           Johnston, Miss. Catherine Helen \"Carrie\"  female   NaN      1   \n",
       "889                              Behr, Mr. Karl Howell    male  26.0      0   \n",
       "890                                Dooley, Mr. Patrick    male  32.0      0   \n",
       "\n",
       "     Parch            Ticket     Fare Cabin Embarked  \n",
       "0        0         A/5 21171   7.2500   NaN        S  \n",
       "1        0          PC 17599  71.2833   C85        C  \n",
       "2        0  STON/O2. 3101282   7.9250   NaN        S  \n",
       "3        0            113803  53.1000  C123        S  \n",
       "4        0            373450   8.0500   NaN        S  \n",
       "..     ...               ...      ...   ...      ...  \n",
       "886      0            211536  13.0000   NaN        S  \n",
       "887      0            112053  30.0000   B42        S  \n",
       "888      2        W./C. 6607  23.4500   NaN        S  \n",
       "889      0            111369  30.0000  C148        C  \n",
       "890      0            370376   7.7500   NaN        Q  \n",
       "\n",
       "[891 rows x 12 columns]"
      ],
      "text/html": "<div>\n<style scoped>\n    .dataframe tbody tr th:only-of-type {\n        vertical-align: middle;\n    }\n\n    .dataframe tbody tr th {\n        vertical-align: top;\n    }\n\n    .dataframe thead th {\n        text-align: right;\n    }\n</style>\n<table border=\"1\" class=\"dataframe\">\n  <thead>\n    <tr style=\"text-align: right;\">\n      <th></th>\n      <th>PassengerId</th>\n      <th>Survived</th>\n      <th>Pclass</th>\n      <th>Name</th>\n      <th>Sex</th>\n      <th>Age</th>\n      <th>SibSp</th>\n      <th>Parch</th>\n      <th>Ticket</th>\n      <th>Fare</th>\n      <th>Cabin</th>\n      <th>Embarked</th>\n    </tr>\n  </thead>\n  <tbody>\n    <tr>\n      <th>0</th>\n      <td>1</td>\n      <td>0</td>\n      <td>3</td>\n      <td>Braund, Mr. Owen Harris</td>\n      <td>male</td>\n      <td>22.0</td>\n      <td>1</td>\n      <td>0</td>\n      <td>A/5 21171</td>\n      <td>7.2500</td>\n      <td>NaN</td>\n      <td>S</td>\n    </tr>\n    <tr>\n      <th>1</th>\n      <td>2</td>\n      <td>1</td>\n      <td>1</td>\n      <td>Cumings, Mrs. John Bradley (Florence Briggs Th...</td>\n      <td>female</td>\n      <td>38.0</td>\n      <td>1</td>\n      <td>0</td>\n      <td>PC 17599</td>\n      <td>71.2833</td>\n      <td>C85</td>\n      <td>C</td>\n    </tr>\n    <tr>\n      <th>2</th>\n      <td>3</td>\n      <td>1</td>\n      <td>3</td>\n      <td>Heikkinen, Miss. Laina</td>\n      <td>female</td>\n      <td>26.0</td>\n      <td>0</td>\n      <td>0</td>\n      <td>STON/O2. 3101282</td>\n      <td>7.9250</td>\n      <td>NaN</td>\n      <td>S</td>\n    </tr>\n    <tr>\n      <th>3</th>\n      <td>4</td>\n      <td>1</td>\n      <td>1</td>\n      <td>Futrelle, Mrs. Jacques Heath (Lily May Peel)</td>\n      <td>female</td>\n      <td>35.0</td>\n      <td>1</td>\n      <td>0</td>\n      <td>113803</td>\n      <td>53.1000</td>\n      <td>C123</td>\n      <td>S</td>\n    </tr>\n    <tr>\n      <th>4</th>\n      <td>5</td>\n      <td>0</td>\n      <td>3</td>\n      <td>Allen, Mr. William Henry</td>\n      <td>male</td>\n      <td>35.0</td>\n      <td>0</td>\n      <td>0</td>\n      <td>373450</td>\n      <td>8.0500</td>\n      <td>NaN</td>\n      <td>S</td>\n    </tr>\n    <tr>\n      <th>...</th>\n      <td>...</td>\n      <td>...</td>\n      <td>...</td>\n      <td>...</td>\n      <td>...</td>\n      <td>...</td>\n      <td>...</td>\n      <td>...</td>\n      <td>...</td>\n      <td>...</td>\n      <td>...</td>\n      <td>...</td>\n    </tr>\n    <tr>\n      <th>886</th>\n      <td>887</td>\n      <td>0</td>\n      <td>2</td>\n      <td>Montvila, Rev. Juozas</td>\n      <td>male</td>\n      <td>27.0</td>\n      <td>0</td>\n      <td>0</td>\n      <td>211536</td>\n      <td>13.0000</td>\n      <td>NaN</td>\n      <td>S</td>\n    </tr>\n    <tr>\n      <th>887</th>\n      <td>888</td>\n      <td>1</td>\n      <td>1</td>\n      <td>Graham, Miss. Margaret Edith</td>\n      <td>female</td>\n      <td>19.0</td>\n      <td>0</td>\n      <td>0</td>\n      <td>112053</td>\n      <td>30.0000</td>\n      <td>B42</td>\n      <td>S</td>\n    </tr>\n    <tr>\n      <th>888</th>\n      <td>889</td>\n      <td>0</td>\n      <td>3</td>\n      <td>Johnston, Miss. Catherine Helen \"Carrie\"</td>\n      <td>female</td>\n      <td>NaN</td>\n      <td>1</td>\n      <td>2</td>\n      <td>W./C. 6607</td>\n      <td>23.4500</td>\n      <td>NaN</td>\n      <td>S</td>\n    </tr>\n    <tr>\n      <th>889</th>\n      <td>890</td>\n      <td>1</td>\n      <td>1</td>\n      <td>Behr, Mr. Karl Howell</td>\n      <td>male</td>\n      <td>26.0</td>\n      <td>0</td>\n      <td>0</td>\n      <td>111369</td>\n      <td>30.0000</td>\n      <td>C148</td>\n      <td>C</td>\n    </tr>\n    <tr>\n      <th>890</th>\n      <td>891</td>\n      <td>0</td>\n      <td>3</td>\n      <td>Dooley, Mr. Patrick</td>\n      <td>male</td>\n      <td>32.0</td>\n      <td>0</td>\n      <td>0</td>\n      <td>370376</td>\n      <td>7.7500</td>\n      <td>NaN</td>\n      <td>Q</td>\n    </tr>\n  </tbody>\n</table>\n<p>891 rows × 12 columns</p>\n</div>"
     },
     "metadata": {},
     "execution_count": 59
    }
   ],
   "source": [
    "df = pd.read_csv(\"train.csv\")\n",
    "df"
   ]
  },
  {
   "cell_type": "code",
   "execution_count": 60,
   "metadata": {},
   "outputs": [
    {
     "output_type": "execute_result",
     "data": {
      "text/plain": [
       "     PassengerId  Survived  Pclass  \\\n",
       "678          679         0       3   \n",
       "638          639         0       3   \n",
       "885          886         0       3   \n",
       "610          611         0       3   \n",
       "25            26         1       3   \n",
       "13            14         0       3   \n",
       "438          439         0       1   \n",
       "360          361         0       3   \n",
       "167          168         0       3   \n",
       "567          568         0       3   \n",
       "858          859         1       3   \n",
       "736          737         0       3   \n",
       "774          775         1       2   \n",
       "437          438         1       2   \n",
       "86            87         0       3   \n",
       "140          141         0       3   \n",
       "802          803         1       1   \n",
       "685          686         0       2   \n",
       "261          262         1       3   \n",
       "255          256         1       3   \n",
       "\n",
       "                                                  Name     Sex   Age  SibSp  \\\n",
       "678            Goodwin, Mrs. Frederick (Augusta Tyler)  female  43.0      1   \n",
       "638             Panula, Mrs. Juha (Maria Emilia Ojala)  female  41.0      0   \n",
       "885               Rice, Mrs. William (Margaret Norton)  female  39.0      0   \n",
       "610  Andersson, Mrs. Anders Johan (Alfrida Konstant...  female  39.0      1   \n",
       "25   Asplund, Mrs. Carl Oscar (Selma Augusta Emilia...  female  38.0      1   \n",
       "13                         Andersson, Mr. Anders Johan    male  39.0      1   \n",
       "438                                  Fortune, Mr. Mark    male  64.0      1   \n",
       "360                                 Skoog, Mr. Wilhelm    male  40.0      1   \n",
       "167    Skoog, Mrs. William (Anna Bernhardina Karlsson)  female  45.0      1   \n",
       "567        Palsson, Mrs. Nils (Alma Cornelia Berglund)  female  29.0      0   \n",
       "858              Baclini, Mrs. Solomon (Latifa Qurban)  female  24.0      0   \n",
       "736            Ford, Mrs. Edward (Margaret Ann Watson)  female  48.0      1   \n",
       "774              Hocking, Mrs. Elizabeth (Eliza Needs)  female  54.0      1   \n",
       "437              Richards, Mrs. Sidney (Emily Hocking)  female  24.0      2   \n",
       "86                              Ford, Mr. William Neal    male  16.0      1   \n",
       "140                      Boulos, Mrs. Joseph (Sultana)  female   NaN      0   \n",
       "802                Carter, Master. William Thornton II    male  11.0      1   \n",
       "685             Laroche, Mr. Joseph Philippe Lemercier    male  25.0      1   \n",
       "261                  Asplund, Master. Edvin Rojj Felix    male   3.0      4   \n",
       "255            Touma, Mrs. Darwis (Hanne Youssef Razi)  female  29.0      0   \n",
       "\n",
       "     Parch         Ticket      Fare        Cabin Embarked  \n",
       "678      6        CA 2144   46.9000          NaN        S  \n",
       "638      5        3101295   39.6875          NaN        S  \n",
       "885      5         382652   29.1250          NaN        Q  \n",
       "610      5         347082   31.2750          NaN        S  \n",
       "25       5         347077   31.3875          NaN        S  \n",
       "13       5         347082   31.2750          NaN        S  \n",
       "438      4          19950  263.0000  C23 C25 C27        S  \n",
       "360      4         347088   27.9000          NaN        S  \n",
       "167      4         347088   27.9000          NaN        S  \n",
       "567      4         349909   21.0750          NaN        S  \n",
       "858      3           2666   19.2583          NaN        C  \n",
       "736      3     W./C. 6608   34.3750          NaN        S  \n",
       "774      3          29105   23.0000          NaN        S  \n",
       "437      3          29106   18.7500          NaN        S  \n",
       "86       3     W./C. 6608   34.3750          NaN        S  \n",
       "140      2           2678   15.2458          NaN        C  \n",
       "802      2         113760  120.0000      B96 B98        S  \n",
       "685      2  SC/Paris 2123   41.5792          NaN        C  \n",
       "261      2         347077   31.3875          NaN        S  \n",
       "255      2           2650   15.2458          NaN        C  "
      ],
      "text/html": "<div>\n<style scoped>\n    .dataframe tbody tr th:only-of-type {\n        vertical-align: middle;\n    }\n\n    .dataframe tbody tr th {\n        vertical-align: top;\n    }\n\n    .dataframe thead th {\n        text-align: right;\n    }\n</style>\n<table border=\"1\" class=\"dataframe\">\n  <thead>\n    <tr style=\"text-align: right;\">\n      <th></th>\n      <th>PassengerId</th>\n      <th>Survived</th>\n      <th>Pclass</th>\n      <th>Name</th>\n      <th>Sex</th>\n      <th>Age</th>\n      <th>SibSp</th>\n      <th>Parch</th>\n      <th>Ticket</th>\n      <th>Fare</th>\n      <th>Cabin</th>\n      <th>Embarked</th>\n    </tr>\n  </thead>\n  <tbody>\n    <tr>\n      <th>678</th>\n      <td>679</td>\n      <td>0</td>\n      <td>3</td>\n      <td>Goodwin, Mrs. Frederick (Augusta Tyler)</td>\n      <td>female</td>\n      <td>43.0</td>\n      <td>1</td>\n      <td>6</td>\n      <td>CA 2144</td>\n      <td>46.9000</td>\n      <td>NaN</td>\n      <td>S</td>\n    </tr>\n    <tr>\n      <th>638</th>\n      <td>639</td>\n      <td>0</td>\n      <td>3</td>\n      <td>Panula, Mrs. Juha (Maria Emilia Ojala)</td>\n      <td>female</td>\n      <td>41.0</td>\n      <td>0</td>\n      <td>5</td>\n      <td>3101295</td>\n      <td>39.6875</td>\n      <td>NaN</td>\n      <td>S</td>\n    </tr>\n    <tr>\n      <th>885</th>\n      <td>886</td>\n      <td>0</td>\n      <td>3</td>\n      <td>Rice, Mrs. William (Margaret Norton)</td>\n      <td>female</td>\n      <td>39.0</td>\n      <td>0</td>\n      <td>5</td>\n      <td>382652</td>\n      <td>29.1250</td>\n      <td>NaN</td>\n      <td>Q</td>\n    </tr>\n    <tr>\n      <th>610</th>\n      <td>611</td>\n      <td>0</td>\n      <td>3</td>\n      <td>Andersson, Mrs. Anders Johan (Alfrida Konstant...</td>\n      <td>female</td>\n      <td>39.0</td>\n      <td>1</td>\n      <td>5</td>\n      <td>347082</td>\n      <td>31.2750</td>\n      <td>NaN</td>\n      <td>S</td>\n    </tr>\n    <tr>\n      <th>25</th>\n      <td>26</td>\n      <td>1</td>\n      <td>3</td>\n      <td>Asplund, Mrs. Carl Oscar (Selma Augusta Emilia...</td>\n      <td>female</td>\n      <td>38.0</td>\n      <td>1</td>\n      <td>5</td>\n      <td>347077</td>\n      <td>31.3875</td>\n      <td>NaN</td>\n      <td>S</td>\n    </tr>\n    <tr>\n      <th>13</th>\n      <td>14</td>\n      <td>0</td>\n      <td>3</td>\n      <td>Andersson, Mr. Anders Johan</td>\n      <td>male</td>\n      <td>39.0</td>\n      <td>1</td>\n      <td>5</td>\n      <td>347082</td>\n      <td>31.2750</td>\n      <td>NaN</td>\n      <td>S</td>\n    </tr>\n    <tr>\n      <th>438</th>\n      <td>439</td>\n      <td>0</td>\n      <td>1</td>\n      <td>Fortune, Mr. Mark</td>\n      <td>male</td>\n      <td>64.0</td>\n      <td>1</td>\n      <td>4</td>\n      <td>19950</td>\n      <td>263.0000</td>\n      <td>C23 C25 C27</td>\n      <td>S</td>\n    </tr>\n    <tr>\n      <th>360</th>\n      <td>361</td>\n      <td>0</td>\n      <td>3</td>\n      <td>Skoog, Mr. Wilhelm</td>\n      <td>male</td>\n      <td>40.0</td>\n      <td>1</td>\n      <td>4</td>\n      <td>347088</td>\n      <td>27.9000</td>\n      <td>NaN</td>\n      <td>S</td>\n    </tr>\n    <tr>\n      <th>167</th>\n      <td>168</td>\n      <td>0</td>\n      <td>3</td>\n      <td>Skoog, Mrs. William (Anna Bernhardina Karlsson)</td>\n      <td>female</td>\n      <td>45.0</td>\n      <td>1</td>\n      <td>4</td>\n      <td>347088</td>\n      <td>27.9000</td>\n      <td>NaN</td>\n      <td>S</td>\n    </tr>\n    <tr>\n      <th>567</th>\n      <td>568</td>\n      <td>0</td>\n      <td>3</td>\n      <td>Palsson, Mrs. Nils (Alma Cornelia Berglund)</td>\n      <td>female</td>\n      <td>29.0</td>\n      <td>0</td>\n      <td>4</td>\n      <td>349909</td>\n      <td>21.0750</td>\n      <td>NaN</td>\n      <td>S</td>\n    </tr>\n    <tr>\n      <th>858</th>\n      <td>859</td>\n      <td>1</td>\n      <td>3</td>\n      <td>Baclini, Mrs. Solomon (Latifa Qurban)</td>\n      <td>female</td>\n      <td>24.0</td>\n      <td>0</td>\n      <td>3</td>\n      <td>2666</td>\n      <td>19.2583</td>\n      <td>NaN</td>\n      <td>C</td>\n    </tr>\n    <tr>\n      <th>736</th>\n      <td>737</td>\n      <td>0</td>\n      <td>3</td>\n      <td>Ford, Mrs. Edward (Margaret Ann Watson)</td>\n      <td>female</td>\n      <td>48.0</td>\n      <td>1</td>\n      <td>3</td>\n      <td>W./C. 6608</td>\n      <td>34.3750</td>\n      <td>NaN</td>\n      <td>S</td>\n    </tr>\n    <tr>\n      <th>774</th>\n      <td>775</td>\n      <td>1</td>\n      <td>2</td>\n      <td>Hocking, Mrs. Elizabeth (Eliza Needs)</td>\n      <td>female</td>\n      <td>54.0</td>\n      <td>1</td>\n      <td>3</td>\n      <td>29105</td>\n      <td>23.0000</td>\n      <td>NaN</td>\n      <td>S</td>\n    </tr>\n    <tr>\n      <th>437</th>\n      <td>438</td>\n      <td>1</td>\n      <td>2</td>\n      <td>Richards, Mrs. Sidney (Emily Hocking)</td>\n      <td>female</td>\n      <td>24.0</td>\n      <td>2</td>\n      <td>3</td>\n      <td>29106</td>\n      <td>18.7500</td>\n      <td>NaN</td>\n      <td>S</td>\n    </tr>\n    <tr>\n      <th>86</th>\n      <td>87</td>\n      <td>0</td>\n      <td>3</td>\n      <td>Ford, Mr. William Neal</td>\n      <td>male</td>\n      <td>16.0</td>\n      <td>1</td>\n      <td>3</td>\n      <td>W./C. 6608</td>\n      <td>34.3750</td>\n      <td>NaN</td>\n      <td>S</td>\n    </tr>\n    <tr>\n      <th>140</th>\n      <td>141</td>\n      <td>0</td>\n      <td>3</td>\n      <td>Boulos, Mrs. Joseph (Sultana)</td>\n      <td>female</td>\n      <td>NaN</td>\n      <td>0</td>\n      <td>2</td>\n      <td>2678</td>\n      <td>15.2458</td>\n      <td>NaN</td>\n      <td>C</td>\n    </tr>\n    <tr>\n      <th>802</th>\n      <td>803</td>\n      <td>1</td>\n      <td>1</td>\n      <td>Carter, Master. William Thornton II</td>\n      <td>male</td>\n      <td>11.0</td>\n      <td>1</td>\n      <td>2</td>\n      <td>113760</td>\n      <td>120.0000</td>\n      <td>B96 B98</td>\n      <td>S</td>\n    </tr>\n    <tr>\n      <th>685</th>\n      <td>686</td>\n      <td>0</td>\n      <td>2</td>\n      <td>Laroche, Mr. Joseph Philippe Lemercier</td>\n      <td>male</td>\n      <td>25.0</td>\n      <td>1</td>\n      <td>2</td>\n      <td>SC/Paris 2123</td>\n      <td>41.5792</td>\n      <td>NaN</td>\n      <td>C</td>\n    </tr>\n    <tr>\n      <th>261</th>\n      <td>262</td>\n      <td>1</td>\n      <td>3</td>\n      <td>Asplund, Master. Edvin Rojj Felix</td>\n      <td>male</td>\n      <td>3.0</td>\n      <td>4</td>\n      <td>2</td>\n      <td>347077</td>\n      <td>31.3875</td>\n      <td>NaN</td>\n      <td>S</td>\n    </tr>\n    <tr>\n      <th>255</th>\n      <td>256</td>\n      <td>1</td>\n      <td>3</td>\n      <td>Touma, Mrs. Darwis (Hanne Youssef Razi)</td>\n      <td>female</td>\n      <td>29.0</td>\n      <td>0</td>\n      <td>2</td>\n      <td>2650</td>\n      <td>15.2458</td>\n      <td>NaN</td>\n      <td>C</td>\n    </tr>\n  </tbody>\n</table>\n</div>"
     },
     "metadata": {},
     "execution_count": 60
    }
   ],
   "source": [
    "df.sort_values(by=\"Parch\", ascending=False).head(20)"
   ]
  },
  {
   "cell_type": "code",
   "execution_count": 61,
   "metadata": {},
   "outputs": [
    {
     "output_type": "execute_result",
     "data": {
      "text/plain": [
       "     PassengerId  Survived  Pclass  \\\n",
       "59            60         0       3   \n",
       "201          202         0       3   \n",
       "224          225         1       1   \n",
       "238          239         0       2   \n",
       "343          344         0       2   \n",
       "457          458         1       1   \n",
       "486          487         1       1   \n",
       "497          498         0       3   \n",
       "506          507         1       2   \n",
       "625          626         0       1   \n",
       "676          677         0       3   \n",
       "678          679         0       3   \n",
       "861          862         0       2   \n",
       "862          863         1       1   \n",
       "883          884         0       2   \n",
       "\n",
       "                                                  Name     Sex   Age  SibSp  \\\n",
       "59                  Goodwin, Master. William Frederick    male  11.0      5   \n",
       "201                                Sage, Mr. Frederick    male   NaN      8   \n",
       "224                       Hoyt, Mr. Frederick Maxfield    male  38.0      1   \n",
       "238                    Pengelly, Mr. Frederick William    male  19.0      0   \n",
       "343         Sedgwick, Mr. Charles Frederick Waddington    male  25.0      0   \n",
       "457                  Kenyon, Mrs. Frederick R (Marion)  female   NaN      1   \n",
       "486    Hoyt, Mrs. Frederick Maxfield (Jane Anne Forby)  female  35.0      1   \n",
       "497                    Shellard, Mr. Frederick William    male   NaN      0   \n",
       "506      Quick, Mrs. Frederick Charles (Jane Richards)  female  33.0      0   \n",
       "625                              Sutton, Mr. Frederick    male  61.0      0   \n",
       "676                      Sawyer, Mr. Frederick Charles    male  24.5      0   \n",
       "678            Goodwin, Mrs. Frederick (Augusta Tyler)  female  43.0      1   \n",
       "861                        Giles, Mr. Frederick Edward    male  21.0      1   \n",
       "862  Swift, Mrs. Frederick Joel (Margaret Welles Ba...  female  48.0      0   \n",
       "883                      Banfield, Mr. Frederick James    male  28.0      0   \n",
       "\n",
       "     Parch            Ticket     Fare Cabin Embarked  \n",
       "59       2           CA 2144  46.9000   NaN        S  \n",
       "201      2          CA. 2343  69.5500   NaN        S  \n",
       "224      0             19943  90.0000   C93        S  \n",
       "238      0             28665  10.5000   NaN        S  \n",
       "343      0            244361  13.0000   NaN        S  \n",
       "457      0             17464  51.8625   D21        S  \n",
       "486      0             19943  90.0000   C93        S  \n",
       "497      0         C.A. 6212  15.1000   NaN        S  \n",
       "506      2             26360  26.0000   NaN        S  \n",
       "625      0             36963  32.3208   D50        S  \n",
       "676      0            342826   8.0500   NaN        S  \n",
       "678      6           CA 2144  46.9000   NaN        S  \n",
       "861      0             28134  11.5000   NaN        S  \n",
       "862      0             17466  25.9292   D17        S  \n",
       "883      0  C.A./SOTON 34068  10.5000   NaN        S  "
      ],
      "text/html": "<div>\n<style scoped>\n    .dataframe tbody tr th:only-of-type {\n        vertical-align: middle;\n    }\n\n    .dataframe tbody tr th {\n        vertical-align: top;\n    }\n\n    .dataframe thead th {\n        text-align: right;\n    }\n</style>\n<table border=\"1\" class=\"dataframe\">\n  <thead>\n    <tr style=\"text-align: right;\">\n      <th></th>\n      <th>PassengerId</th>\n      <th>Survived</th>\n      <th>Pclass</th>\n      <th>Name</th>\n      <th>Sex</th>\n      <th>Age</th>\n      <th>SibSp</th>\n      <th>Parch</th>\n      <th>Ticket</th>\n      <th>Fare</th>\n      <th>Cabin</th>\n      <th>Embarked</th>\n    </tr>\n  </thead>\n  <tbody>\n    <tr>\n      <th>59</th>\n      <td>60</td>\n      <td>0</td>\n      <td>3</td>\n      <td>Goodwin, Master. William Frederick</td>\n      <td>male</td>\n      <td>11.0</td>\n      <td>5</td>\n      <td>2</td>\n      <td>CA 2144</td>\n      <td>46.9000</td>\n      <td>NaN</td>\n      <td>S</td>\n    </tr>\n    <tr>\n      <th>201</th>\n      <td>202</td>\n      <td>0</td>\n      <td>3</td>\n      <td>Sage, Mr. Frederick</td>\n      <td>male</td>\n      <td>NaN</td>\n      <td>8</td>\n      <td>2</td>\n      <td>CA. 2343</td>\n      <td>69.5500</td>\n      <td>NaN</td>\n      <td>S</td>\n    </tr>\n    <tr>\n      <th>224</th>\n      <td>225</td>\n      <td>1</td>\n      <td>1</td>\n      <td>Hoyt, Mr. Frederick Maxfield</td>\n      <td>male</td>\n      <td>38.0</td>\n      <td>1</td>\n      <td>0</td>\n      <td>19943</td>\n      <td>90.0000</td>\n      <td>C93</td>\n      <td>S</td>\n    </tr>\n    <tr>\n      <th>238</th>\n      <td>239</td>\n      <td>0</td>\n      <td>2</td>\n      <td>Pengelly, Mr. Frederick William</td>\n      <td>male</td>\n      <td>19.0</td>\n      <td>0</td>\n      <td>0</td>\n      <td>28665</td>\n      <td>10.5000</td>\n      <td>NaN</td>\n      <td>S</td>\n    </tr>\n    <tr>\n      <th>343</th>\n      <td>344</td>\n      <td>0</td>\n      <td>2</td>\n      <td>Sedgwick, Mr. Charles Frederick Waddington</td>\n      <td>male</td>\n      <td>25.0</td>\n      <td>0</td>\n      <td>0</td>\n      <td>244361</td>\n      <td>13.0000</td>\n      <td>NaN</td>\n      <td>S</td>\n    </tr>\n    <tr>\n      <th>457</th>\n      <td>458</td>\n      <td>1</td>\n      <td>1</td>\n      <td>Kenyon, Mrs. Frederick R (Marion)</td>\n      <td>female</td>\n      <td>NaN</td>\n      <td>1</td>\n      <td>0</td>\n      <td>17464</td>\n      <td>51.8625</td>\n      <td>D21</td>\n      <td>S</td>\n    </tr>\n    <tr>\n      <th>486</th>\n      <td>487</td>\n      <td>1</td>\n      <td>1</td>\n      <td>Hoyt, Mrs. Frederick Maxfield (Jane Anne Forby)</td>\n      <td>female</td>\n      <td>35.0</td>\n      <td>1</td>\n      <td>0</td>\n      <td>19943</td>\n      <td>90.0000</td>\n      <td>C93</td>\n      <td>S</td>\n    </tr>\n    <tr>\n      <th>497</th>\n      <td>498</td>\n      <td>0</td>\n      <td>3</td>\n      <td>Shellard, Mr. Frederick William</td>\n      <td>male</td>\n      <td>NaN</td>\n      <td>0</td>\n      <td>0</td>\n      <td>C.A. 6212</td>\n      <td>15.1000</td>\n      <td>NaN</td>\n      <td>S</td>\n    </tr>\n    <tr>\n      <th>506</th>\n      <td>507</td>\n      <td>1</td>\n      <td>2</td>\n      <td>Quick, Mrs. Frederick Charles (Jane Richards)</td>\n      <td>female</td>\n      <td>33.0</td>\n      <td>0</td>\n      <td>2</td>\n      <td>26360</td>\n      <td>26.0000</td>\n      <td>NaN</td>\n      <td>S</td>\n    </tr>\n    <tr>\n      <th>625</th>\n      <td>626</td>\n      <td>0</td>\n      <td>1</td>\n      <td>Sutton, Mr. Frederick</td>\n      <td>male</td>\n      <td>61.0</td>\n      <td>0</td>\n      <td>0</td>\n      <td>36963</td>\n      <td>32.3208</td>\n      <td>D50</td>\n      <td>S</td>\n    </tr>\n    <tr>\n      <th>676</th>\n      <td>677</td>\n      <td>0</td>\n      <td>3</td>\n      <td>Sawyer, Mr. Frederick Charles</td>\n      <td>male</td>\n      <td>24.5</td>\n      <td>0</td>\n      <td>0</td>\n      <td>342826</td>\n      <td>8.0500</td>\n      <td>NaN</td>\n      <td>S</td>\n    </tr>\n    <tr>\n      <th>678</th>\n      <td>679</td>\n      <td>0</td>\n      <td>3</td>\n      <td>Goodwin, Mrs. Frederick (Augusta Tyler)</td>\n      <td>female</td>\n      <td>43.0</td>\n      <td>1</td>\n      <td>6</td>\n      <td>CA 2144</td>\n      <td>46.9000</td>\n      <td>NaN</td>\n      <td>S</td>\n    </tr>\n    <tr>\n      <th>861</th>\n      <td>862</td>\n      <td>0</td>\n      <td>2</td>\n      <td>Giles, Mr. Frederick Edward</td>\n      <td>male</td>\n      <td>21.0</td>\n      <td>1</td>\n      <td>0</td>\n      <td>28134</td>\n      <td>11.5000</td>\n      <td>NaN</td>\n      <td>S</td>\n    </tr>\n    <tr>\n      <th>862</th>\n      <td>863</td>\n      <td>1</td>\n      <td>1</td>\n      <td>Swift, Mrs. Frederick Joel (Margaret Welles Ba...</td>\n      <td>female</td>\n      <td>48.0</td>\n      <td>0</td>\n      <td>0</td>\n      <td>17466</td>\n      <td>25.9292</td>\n      <td>D17</td>\n      <td>S</td>\n    </tr>\n    <tr>\n      <th>883</th>\n      <td>884</td>\n      <td>0</td>\n      <td>2</td>\n      <td>Banfield, Mr. Frederick James</td>\n      <td>male</td>\n      <td>28.0</td>\n      <td>0</td>\n      <td>0</td>\n      <td>C.A./SOTON 34068</td>\n      <td>10.5000</td>\n      <td>NaN</td>\n      <td>S</td>\n    </tr>\n  </tbody>\n</table>\n</div>"
     },
     "metadata": {},
     "execution_count": 61
    }
   ],
   "source": [
    "#df[ \"Frederick\" in df.Name)]\n",
    "\n",
    "df[df['Name'].str.contains(\"Frederick\")]\n",
    "\n",
    "names_f = [name for name in df.Name if 'Frederick' in name]\n",
    "df[df['Name'].str.contains(\"Frederick\")]"
   ]
  },
  {
   "cell_type": "code",
   "execution_count": 62,
   "metadata": {},
   "outputs": [
    {
     "output_type": "execute_result",
     "data": {
      "text/plain": [
       "     PassengerId  Survived  Pclass  \\\n",
       "0              1         0       3   \n",
       "1              2         1       1   \n",
       "2              3         1       3   \n",
       "3              4         1       1   \n",
       "4              5         0       3   \n",
       "..           ...       ...     ...   \n",
       "886          887         0       2   \n",
       "887          888         1       1   \n",
       "888          889         0       3   \n",
       "889          890         1       1   \n",
       "890          891         0       3   \n",
       "\n",
       "                                                  Name     Sex   Age  SibSp  \\\n",
       "0                              Braund, Mr. Owen Harris    male  22.0      1   \n",
       "1    Cumings, Mrs. John Bradley (Florence Briggs Th...  female  38.0      1   \n",
       "2                               Heikkinen, Miss. Laina  female  26.0      0   \n",
       "3         Futrelle, Mrs. Jacques Heath (Lily May Peel)  female  35.0      1   \n",
       "4                             Allen, Mr. William Henry    male  35.0      0   \n",
       "..                                                 ...     ...   ...    ...   \n",
       "886                              Montvila, Rev. Juozas    male  27.0      0   \n",
       "887                       Graham, Miss. Margaret Edith  female  19.0      0   \n",
       "888           Johnston, Miss. Catherine Helen \"Carrie\"  female   NaN      1   \n",
       "889                              Behr, Mr. Karl Howell    male  26.0      0   \n",
       "890                                Dooley, Mr. Patrick    male  32.0      0   \n",
       "\n",
       "     Parch            Ticket     Fare Cabin Embarked  Child  Parent  \n",
       "0        0         A/5 21171   7.2500   NaN        S  False   False  \n",
       "1        0          PC 17599  71.2833   C85        C  False   False  \n",
       "2        0  STON/O2. 3101282   7.9250   NaN        S  False   False  \n",
       "3        0            113803  53.1000  C123        S  False   False  \n",
       "4        0            373450   8.0500   NaN        S  False   False  \n",
       "..     ...               ...      ...   ...      ...    ...     ...  \n",
       "886      0            211536  13.0000   NaN        S  False   False  \n",
       "887      0            112053  30.0000   B42        S  False   False  \n",
       "888      2        W./C. 6607  23.4500   NaN        S  False   False  \n",
       "889      0            111369  30.0000  C148        C  False   False  \n",
       "890      0            370376   7.7500   NaN        Q  False   False  \n",
       "\n",
       "[891 rows x 14 columns]"
      ],
      "text/html": "<div>\n<style scoped>\n    .dataframe tbody tr th:only-of-type {\n        vertical-align: middle;\n    }\n\n    .dataframe tbody tr th {\n        vertical-align: top;\n    }\n\n    .dataframe thead th {\n        text-align: right;\n    }\n</style>\n<table border=\"1\" class=\"dataframe\">\n  <thead>\n    <tr style=\"text-align: right;\">\n      <th></th>\n      <th>PassengerId</th>\n      <th>Survived</th>\n      <th>Pclass</th>\n      <th>Name</th>\n      <th>Sex</th>\n      <th>Age</th>\n      <th>SibSp</th>\n      <th>Parch</th>\n      <th>Ticket</th>\n      <th>Fare</th>\n      <th>Cabin</th>\n      <th>Embarked</th>\n      <th>Child</th>\n      <th>Parent</th>\n    </tr>\n  </thead>\n  <tbody>\n    <tr>\n      <th>0</th>\n      <td>1</td>\n      <td>0</td>\n      <td>3</td>\n      <td>Braund, Mr. Owen Harris</td>\n      <td>male</td>\n      <td>22.0</td>\n      <td>1</td>\n      <td>0</td>\n      <td>A/5 21171</td>\n      <td>7.2500</td>\n      <td>NaN</td>\n      <td>S</td>\n      <td>False</td>\n      <td>False</td>\n    </tr>\n    <tr>\n      <th>1</th>\n      <td>2</td>\n      <td>1</td>\n      <td>1</td>\n      <td>Cumings, Mrs. John Bradley (Florence Briggs Th...</td>\n      <td>female</td>\n      <td>38.0</td>\n      <td>1</td>\n      <td>0</td>\n      <td>PC 17599</td>\n      <td>71.2833</td>\n      <td>C85</td>\n      <td>C</td>\n      <td>False</td>\n      <td>False</td>\n    </tr>\n    <tr>\n      <th>2</th>\n      <td>3</td>\n      <td>1</td>\n      <td>3</td>\n      <td>Heikkinen, Miss. Laina</td>\n      <td>female</td>\n      <td>26.0</td>\n      <td>0</td>\n      <td>0</td>\n      <td>STON/O2. 3101282</td>\n      <td>7.9250</td>\n      <td>NaN</td>\n      <td>S</td>\n      <td>False</td>\n      <td>False</td>\n    </tr>\n    <tr>\n      <th>3</th>\n      <td>4</td>\n      <td>1</td>\n      <td>1</td>\n      <td>Futrelle, Mrs. Jacques Heath (Lily May Peel)</td>\n      <td>female</td>\n      <td>35.0</td>\n      <td>1</td>\n      <td>0</td>\n      <td>113803</td>\n      <td>53.1000</td>\n      <td>C123</td>\n      <td>S</td>\n      <td>False</td>\n      <td>False</td>\n    </tr>\n    <tr>\n      <th>4</th>\n      <td>5</td>\n      <td>0</td>\n      <td>3</td>\n      <td>Allen, Mr. William Henry</td>\n      <td>male</td>\n      <td>35.0</td>\n      <td>0</td>\n      <td>0</td>\n      <td>373450</td>\n      <td>8.0500</td>\n      <td>NaN</td>\n      <td>S</td>\n      <td>False</td>\n      <td>False</td>\n    </tr>\n    <tr>\n      <th>...</th>\n      <td>...</td>\n      <td>...</td>\n      <td>...</td>\n      <td>...</td>\n      <td>...</td>\n      <td>...</td>\n      <td>...</td>\n      <td>...</td>\n      <td>...</td>\n      <td>...</td>\n      <td>...</td>\n      <td>...</td>\n      <td>...</td>\n      <td>...</td>\n    </tr>\n    <tr>\n      <th>886</th>\n      <td>887</td>\n      <td>0</td>\n      <td>2</td>\n      <td>Montvila, Rev. Juozas</td>\n      <td>male</td>\n      <td>27.0</td>\n      <td>0</td>\n      <td>0</td>\n      <td>211536</td>\n      <td>13.0000</td>\n      <td>NaN</td>\n      <td>S</td>\n      <td>False</td>\n      <td>False</td>\n    </tr>\n    <tr>\n      <th>887</th>\n      <td>888</td>\n      <td>1</td>\n      <td>1</td>\n      <td>Graham, Miss. Margaret Edith</td>\n      <td>female</td>\n      <td>19.0</td>\n      <td>0</td>\n      <td>0</td>\n      <td>112053</td>\n      <td>30.0000</td>\n      <td>B42</td>\n      <td>S</td>\n      <td>False</td>\n      <td>False</td>\n    </tr>\n    <tr>\n      <th>888</th>\n      <td>889</td>\n      <td>0</td>\n      <td>3</td>\n      <td>Johnston, Miss. Catherine Helen \"Carrie\"</td>\n      <td>female</td>\n      <td>NaN</td>\n      <td>1</td>\n      <td>2</td>\n      <td>W./C. 6607</td>\n      <td>23.4500</td>\n      <td>NaN</td>\n      <td>S</td>\n      <td>False</td>\n      <td>False</td>\n    </tr>\n    <tr>\n      <th>889</th>\n      <td>890</td>\n      <td>1</td>\n      <td>1</td>\n      <td>Behr, Mr. Karl Howell</td>\n      <td>male</td>\n      <td>26.0</td>\n      <td>0</td>\n      <td>0</td>\n      <td>111369</td>\n      <td>30.0000</td>\n      <td>C148</td>\n      <td>C</td>\n      <td>False</td>\n      <td>False</td>\n    </tr>\n    <tr>\n      <th>890</th>\n      <td>891</td>\n      <td>0</td>\n      <td>3</td>\n      <td>Dooley, Mr. Patrick</td>\n      <td>male</td>\n      <td>32.0</td>\n      <td>0</td>\n      <td>0</td>\n      <td>370376</td>\n      <td>7.7500</td>\n      <td>NaN</td>\n      <td>Q</td>\n      <td>False</td>\n      <td>False</td>\n    </tr>\n  </tbody>\n</table>\n<p>891 rows × 14 columns</p>\n</div>"
     },
     "metadata": {},
     "execution_count": 62
    }
   ],
   "source": [
    "df['Child']= df['SibSp'] > 2\n",
    "df['Parent']= df['Parch'] > 2\n",
    "df"
   ]
  },
  {
   "cell_type": "code",
   "execution_count": 63,
   "metadata": {},
   "outputs": [
    {
     "output_type": "execute_result",
     "data": {
      "text/plain": [
       "     PassengerId  Survived  Pclass  \\\n",
       "7              8         0       3   \n",
       "16            17         0       3   \n",
       "24            25         0       3   \n",
       "27            28         0       1   \n",
       "50            51         0       3   \n",
       "59            60         0       3   \n",
       "63            64         0       3   \n",
       "68            69         1       3   \n",
       "71            72         0       3   \n",
       "85            86         1       3   \n",
       "88            89         1       1   \n",
       "119          120         0       3   \n",
       "159          160         0       3   \n",
       "164          165         0       3   \n",
       "171          172         0       3   \n",
       "176          177         0       3   \n",
       "180          181         0       3   \n",
       "182          183         0       3   \n",
       "201          202         0       3   \n",
       "229          230         0       3   \n",
       "233          234         1       3   \n",
       "261          262         1       3   \n",
       "266          267         0       3   \n",
       "278          279         0       3   \n",
       "324          325         0       3   \n",
       "341          342         1       1   \n",
       "374          375         0       3   \n",
       "386          387         0       3   \n",
       "409          410         0       3   \n",
       "480          481         0       3   \n",
       "485          486         0       3   \n",
       "541          542         0       3   \n",
       "542          543         0       3   \n",
       "634          635         0       3   \n",
       "642          643         0       3   \n",
       "683          684         0       3   \n",
       "686          687         0       3   \n",
       "726          727         1       2   \n",
       "787          788         0       3   \n",
       "792          793         0       3   \n",
       "813          814         0       3   \n",
       "819          820         0       3   \n",
       "824          825         0       3   \n",
       "846          847         0       3   \n",
       "850          851         0       3   \n",
       "863          864         0       3   \n",
       "\n",
       "                                                  Name     Sex   Age  SibSp  \\\n",
       "7                       Palsson, Master. Gosta Leonard    male   2.0      3   \n",
       "16                                Rice, Master. Eugene    male   2.0      4   \n",
       "24                       Palsson, Miss. Torborg Danira  female   8.0      3   \n",
       "27                      Fortune, Mr. Charles Alexander    male  19.0      3   \n",
       "50                          Panula, Master. Juha Niilo    male   7.0      4   \n",
       "59                  Goodwin, Master. William Frederick    male  11.0      5   \n",
       "63                               Skoog, Master. Harald    male   4.0      3   \n",
       "68                     Andersson, Miss. Erna Alexandra  female  17.0      4   \n",
       "71                          Goodwin, Miss. Lillian Amy  female  16.0      5   \n",
       "85   Backstrom, Mrs. Karl Alfred (Maria Mathilda Gu...  female  33.0      3   \n",
       "88                          Fortune, Miss. Mabel Helen  female  23.0      3   \n",
       "119                  Andersson, Miss. Ellis Anna Maria  female   2.0      4   \n",
       "159                         Sage, Master. Thomas Henry    male   NaN      8   \n",
       "164                       Panula, Master. Eino Viljami    male   1.0      4   \n",
       "171                               Rice, Master. Arthur    male   4.0      4   \n",
       "176                      Lefebre, Master. Henry Forbes    male   NaN      3   \n",
       "180                       Sage, Miss. Constance Gladys  female   NaN      8   \n",
       "182              Asplund, Master. Clarence Gustaf Hugo    male   9.0      4   \n",
       "201                                Sage, Mr. Frederick    male   NaN      8   \n",
       "229                            Lefebre, Miss. Mathilde  female   NaN      3   \n",
       "233                     Asplund, Miss. Lillian Gertrud  female   5.0      4   \n",
       "261                  Asplund, Master. Edvin Rojj Felix    male   3.0      4   \n",
       "266                          Panula, Mr. Ernesti Arvid    male  16.0      4   \n",
       "278                                 Rice, Master. Eric    male   7.0      4   \n",
       "324                           Sage, Mr. George John Jr    male   NaN      8   \n",
       "341                     Fortune, Miss. Alice Elizabeth  female  24.0      3   \n",
       "374                         Palsson, Miss. Stina Viola  female   3.0      3   \n",
       "386                    Goodwin, Master. Sidney Leonard    male   1.0      5   \n",
       "409                                 Lefebre, Miss. Ida  female   NaN      3   \n",
       "480                     Goodwin, Master. Harold Victor    male   9.0      5   \n",
       "485                             Lefebre, Miss. Jeannie  female   NaN      3   \n",
       "541               Andersson, Miss. Ingeborg Constanzia  female   9.0      4   \n",
       "542                  Andersson, Miss. Sigrid Elisabeth  female  11.0      4   \n",
       "634                                 Skoog, Miss. Mabel  female   9.0      3   \n",
       "642                      Skoog, Miss. Margit Elizabeth  female   2.0      3   \n",
       "683                        Goodwin, Mr. Charles Edward    male  14.0      5   \n",
       "686                           Panula, Mr. Jaako Arnold    male  14.0      4   \n",
       "726        Renouf, Mrs. Peter Henry (Lillian Jefferys)  female  30.0      3   \n",
       "787                          Rice, Master. George Hugh    male   8.0      4   \n",
       "792                            Sage, Miss. Stella Anna  female   NaN      8   \n",
       "813                 Andersson, Miss. Ebba Iris Alfrida  female   6.0      4   \n",
       "819                       Skoog, Master. Karl Thorsten    male  10.0      3   \n",
       "824                       Panula, Master. Urho Abraham    male   2.0      4   \n",
       "846                           Sage, Mr. Douglas Bullen    male   NaN      8   \n",
       "850            Andersson, Master. Sigvard Harald Elias    male   4.0      4   \n",
       "863                  Sage, Miss. Dorothy Edith \"Dolly\"  female   NaN      8   \n",
       "\n",
       "     Parch    Ticket      Fare        Cabin Embarked  Child  Parent  \n",
       "7        1    349909   21.0750          NaN        S   True   False  \n",
       "16       1    382652   29.1250          NaN        Q   True   False  \n",
       "24       1    349909   21.0750          NaN        S   True   False  \n",
       "27       2     19950  263.0000  C23 C25 C27        S   True   False  \n",
       "50       1   3101295   39.6875          NaN        S   True   False  \n",
       "59       2   CA 2144   46.9000          NaN        S   True   False  \n",
       "63       2    347088   27.9000          NaN        S   True   False  \n",
       "68       2   3101281    7.9250          NaN        S   True   False  \n",
       "71       2   CA 2144   46.9000          NaN        S   True   False  \n",
       "85       0   3101278   15.8500          NaN        S   True   False  \n",
       "88       2     19950  263.0000  C23 C25 C27        S   True   False  \n",
       "119      2    347082   31.2750          NaN        S   True   False  \n",
       "159      2  CA. 2343   69.5500          NaN        S   True   False  \n",
       "164      1   3101295   39.6875          NaN        S   True   False  \n",
       "171      1    382652   29.1250          NaN        Q   True   False  \n",
       "176      1      4133   25.4667          NaN        S   True   False  \n",
       "180      2  CA. 2343   69.5500          NaN        S   True   False  \n",
       "182      2    347077   31.3875          NaN        S   True   False  \n",
       "201      2  CA. 2343   69.5500          NaN        S   True   False  \n",
       "229      1      4133   25.4667          NaN        S   True   False  \n",
       "233      2    347077   31.3875          NaN        S   True   False  \n",
       "261      2    347077   31.3875          NaN        S   True   False  \n",
       "266      1   3101295   39.6875          NaN        S   True   False  \n",
       "278      1    382652   29.1250          NaN        Q   True   False  \n",
       "324      2  CA. 2343   69.5500          NaN        S   True   False  \n",
       "341      2     19950  263.0000  C23 C25 C27        S   True   False  \n",
       "374      1    349909   21.0750          NaN        S   True   False  \n",
       "386      2   CA 2144   46.9000          NaN        S   True   False  \n",
       "409      1      4133   25.4667          NaN        S   True   False  \n",
       "480      2   CA 2144   46.9000          NaN        S   True   False  \n",
       "485      1      4133   25.4667          NaN        S   True   False  \n",
       "541      2    347082   31.2750          NaN        S   True   False  \n",
       "542      2    347082   31.2750          NaN        S   True   False  \n",
       "634      2    347088   27.9000          NaN        S   True   False  \n",
       "642      2    347088   27.9000          NaN        S   True   False  \n",
       "683      2   CA 2144   46.9000          NaN        S   True   False  \n",
       "686      1   3101295   39.6875          NaN        S   True   False  \n",
       "726      0     31027   21.0000          NaN        S   True   False  \n",
       "787      1    382652   29.1250          NaN        Q   True   False  \n",
       "792      2  CA. 2343   69.5500          NaN        S   True   False  \n",
       "813      2    347082   31.2750          NaN        S   True   False  \n",
       "819      2    347088   27.9000          NaN        S   True   False  \n",
       "824      1   3101295   39.6875          NaN        S   True   False  \n",
       "846      2  CA. 2343   69.5500          NaN        S   True   False  \n",
       "850      2    347082   31.2750          NaN        S   True   False  \n",
       "863      2  CA. 2343   69.5500          NaN        S   True   False  "
      ],
      "text/html": "<div>\n<style scoped>\n    .dataframe tbody tr th:only-of-type {\n        vertical-align: middle;\n    }\n\n    .dataframe tbody tr th {\n        vertical-align: top;\n    }\n\n    .dataframe thead th {\n        text-align: right;\n    }\n</style>\n<table border=\"1\" class=\"dataframe\">\n  <thead>\n    <tr style=\"text-align: right;\">\n      <th></th>\n      <th>PassengerId</th>\n      <th>Survived</th>\n      <th>Pclass</th>\n      <th>Name</th>\n      <th>Sex</th>\n      <th>Age</th>\n      <th>SibSp</th>\n      <th>Parch</th>\n      <th>Ticket</th>\n      <th>Fare</th>\n      <th>Cabin</th>\n      <th>Embarked</th>\n      <th>Child</th>\n      <th>Parent</th>\n    </tr>\n  </thead>\n  <tbody>\n    <tr>\n      <th>7</th>\n      <td>8</td>\n      <td>0</td>\n      <td>3</td>\n      <td>Palsson, Master. Gosta Leonard</td>\n      <td>male</td>\n      <td>2.0</td>\n      <td>3</td>\n      <td>1</td>\n      <td>349909</td>\n      <td>21.0750</td>\n      <td>NaN</td>\n      <td>S</td>\n      <td>True</td>\n      <td>False</td>\n    </tr>\n    <tr>\n      <th>16</th>\n      <td>17</td>\n      <td>0</td>\n      <td>3</td>\n      <td>Rice, Master. Eugene</td>\n      <td>male</td>\n      <td>2.0</td>\n      <td>4</td>\n      <td>1</td>\n      <td>382652</td>\n      <td>29.1250</td>\n      <td>NaN</td>\n      <td>Q</td>\n      <td>True</td>\n      <td>False</td>\n    </tr>\n    <tr>\n      <th>24</th>\n      <td>25</td>\n      <td>0</td>\n      <td>3</td>\n      <td>Palsson, Miss. Torborg Danira</td>\n      <td>female</td>\n      <td>8.0</td>\n      <td>3</td>\n      <td>1</td>\n      <td>349909</td>\n      <td>21.0750</td>\n      <td>NaN</td>\n      <td>S</td>\n      <td>True</td>\n      <td>False</td>\n    </tr>\n    <tr>\n      <th>27</th>\n      <td>28</td>\n      <td>0</td>\n      <td>1</td>\n      <td>Fortune, Mr. Charles Alexander</td>\n      <td>male</td>\n      <td>19.0</td>\n      <td>3</td>\n      <td>2</td>\n      <td>19950</td>\n      <td>263.0000</td>\n      <td>C23 C25 C27</td>\n      <td>S</td>\n      <td>True</td>\n      <td>False</td>\n    </tr>\n    <tr>\n      <th>50</th>\n      <td>51</td>\n      <td>0</td>\n      <td>3</td>\n      <td>Panula, Master. Juha Niilo</td>\n      <td>male</td>\n      <td>7.0</td>\n      <td>4</td>\n      <td>1</td>\n      <td>3101295</td>\n      <td>39.6875</td>\n      <td>NaN</td>\n      <td>S</td>\n      <td>True</td>\n      <td>False</td>\n    </tr>\n    <tr>\n      <th>59</th>\n      <td>60</td>\n      <td>0</td>\n      <td>3</td>\n      <td>Goodwin, Master. William Frederick</td>\n      <td>male</td>\n      <td>11.0</td>\n      <td>5</td>\n      <td>2</td>\n      <td>CA 2144</td>\n      <td>46.9000</td>\n      <td>NaN</td>\n      <td>S</td>\n      <td>True</td>\n      <td>False</td>\n    </tr>\n    <tr>\n      <th>63</th>\n      <td>64</td>\n      <td>0</td>\n      <td>3</td>\n      <td>Skoog, Master. Harald</td>\n      <td>male</td>\n      <td>4.0</td>\n      <td>3</td>\n      <td>2</td>\n      <td>347088</td>\n      <td>27.9000</td>\n      <td>NaN</td>\n      <td>S</td>\n      <td>True</td>\n      <td>False</td>\n    </tr>\n    <tr>\n      <th>68</th>\n      <td>69</td>\n      <td>1</td>\n      <td>3</td>\n      <td>Andersson, Miss. Erna Alexandra</td>\n      <td>female</td>\n      <td>17.0</td>\n      <td>4</td>\n      <td>2</td>\n      <td>3101281</td>\n      <td>7.9250</td>\n      <td>NaN</td>\n      <td>S</td>\n      <td>True</td>\n      <td>False</td>\n    </tr>\n    <tr>\n      <th>71</th>\n      <td>72</td>\n      <td>0</td>\n      <td>3</td>\n      <td>Goodwin, Miss. Lillian Amy</td>\n      <td>female</td>\n      <td>16.0</td>\n      <td>5</td>\n      <td>2</td>\n      <td>CA 2144</td>\n      <td>46.9000</td>\n      <td>NaN</td>\n      <td>S</td>\n      <td>True</td>\n      <td>False</td>\n    </tr>\n    <tr>\n      <th>85</th>\n      <td>86</td>\n      <td>1</td>\n      <td>3</td>\n      <td>Backstrom, Mrs. Karl Alfred (Maria Mathilda Gu...</td>\n      <td>female</td>\n      <td>33.0</td>\n      <td>3</td>\n      <td>0</td>\n      <td>3101278</td>\n      <td>15.8500</td>\n      <td>NaN</td>\n      <td>S</td>\n      <td>True</td>\n      <td>False</td>\n    </tr>\n    <tr>\n      <th>88</th>\n      <td>89</td>\n      <td>1</td>\n      <td>1</td>\n      <td>Fortune, Miss. Mabel Helen</td>\n      <td>female</td>\n      <td>23.0</td>\n      <td>3</td>\n      <td>2</td>\n      <td>19950</td>\n      <td>263.0000</td>\n      <td>C23 C25 C27</td>\n      <td>S</td>\n      <td>True</td>\n      <td>False</td>\n    </tr>\n    <tr>\n      <th>119</th>\n      <td>120</td>\n      <td>0</td>\n      <td>3</td>\n      <td>Andersson, Miss. Ellis Anna Maria</td>\n      <td>female</td>\n      <td>2.0</td>\n      <td>4</td>\n      <td>2</td>\n      <td>347082</td>\n      <td>31.2750</td>\n      <td>NaN</td>\n      <td>S</td>\n      <td>True</td>\n      <td>False</td>\n    </tr>\n    <tr>\n      <th>159</th>\n      <td>160</td>\n      <td>0</td>\n      <td>3</td>\n      <td>Sage, Master. Thomas Henry</td>\n      <td>male</td>\n      <td>NaN</td>\n      <td>8</td>\n      <td>2</td>\n      <td>CA. 2343</td>\n      <td>69.5500</td>\n      <td>NaN</td>\n      <td>S</td>\n      <td>True</td>\n      <td>False</td>\n    </tr>\n    <tr>\n      <th>164</th>\n      <td>165</td>\n      <td>0</td>\n      <td>3</td>\n      <td>Panula, Master. Eino Viljami</td>\n      <td>male</td>\n      <td>1.0</td>\n      <td>4</td>\n      <td>1</td>\n      <td>3101295</td>\n      <td>39.6875</td>\n      <td>NaN</td>\n      <td>S</td>\n      <td>True</td>\n      <td>False</td>\n    </tr>\n    <tr>\n      <th>171</th>\n      <td>172</td>\n      <td>0</td>\n      <td>3</td>\n      <td>Rice, Master. Arthur</td>\n      <td>male</td>\n      <td>4.0</td>\n      <td>4</td>\n      <td>1</td>\n      <td>382652</td>\n      <td>29.1250</td>\n      <td>NaN</td>\n      <td>Q</td>\n      <td>True</td>\n      <td>False</td>\n    </tr>\n    <tr>\n      <th>176</th>\n      <td>177</td>\n      <td>0</td>\n      <td>3</td>\n      <td>Lefebre, Master. Henry Forbes</td>\n      <td>male</td>\n      <td>NaN</td>\n      <td>3</td>\n      <td>1</td>\n      <td>4133</td>\n      <td>25.4667</td>\n      <td>NaN</td>\n      <td>S</td>\n      <td>True</td>\n      <td>False</td>\n    </tr>\n    <tr>\n      <th>180</th>\n      <td>181</td>\n      <td>0</td>\n      <td>3</td>\n      <td>Sage, Miss. Constance Gladys</td>\n      <td>female</td>\n      <td>NaN</td>\n      <td>8</td>\n      <td>2</td>\n      <td>CA. 2343</td>\n      <td>69.5500</td>\n      <td>NaN</td>\n      <td>S</td>\n      <td>True</td>\n      <td>False</td>\n    </tr>\n    <tr>\n      <th>182</th>\n      <td>183</td>\n      <td>0</td>\n      <td>3</td>\n      <td>Asplund, Master. Clarence Gustaf Hugo</td>\n      <td>male</td>\n      <td>9.0</td>\n      <td>4</td>\n      <td>2</td>\n      <td>347077</td>\n      <td>31.3875</td>\n      <td>NaN</td>\n      <td>S</td>\n      <td>True</td>\n      <td>False</td>\n    </tr>\n    <tr>\n      <th>201</th>\n      <td>202</td>\n      <td>0</td>\n      <td>3</td>\n      <td>Sage, Mr. Frederick</td>\n      <td>male</td>\n      <td>NaN</td>\n      <td>8</td>\n      <td>2</td>\n      <td>CA. 2343</td>\n      <td>69.5500</td>\n      <td>NaN</td>\n      <td>S</td>\n      <td>True</td>\n      <td>False</td>\n    </tr>\n    <tr>\n      <th>229</th>\n      <td>230</td>\n      <td>0</td>\n      <td>3</td>\n      <td>Lefebre, Miss. Mathilde</td>\n      <td>female</td>\n      <td>NaN</td>\n      <td>3</td>\n      <td>1</td>\n      <td>4133</td>\n      <td>25.4667</td>\n      <td>NaN</td>\n      <td>S</td>\n      <td>True</td>\n      <td>False</td>\n    </tr>\n    <tr>\n      <th>233</th>\n      <td>234</td>\n      <td>1</td>\n      <td>3</td>\n      <td>Asplund, Miss. Lillian Gertrud</td>\n      <td>female</td>\n      <td>5.0</td>\n      <td>4</td>\n      <td>2</td>\n      <td>347077</td>\n      <td>31.3875</td>\n      <td>NaN</td>\n      <td>S</td>\n      <td>True</td>\n      <td>False</td>\n    </tr>\n    <tr>\n      <th>261</th>\n      <td>262</td>\n      <td>1</td>\n      <td>3</td>\n      <td>Asplund, Master. Edvin Rojj Felix</td>\n      <td>male</td>\n      <td>3.0</td>\n      <td>4</td>\n      <td>2</td>\n      <td>347077</td>\n      <td>31.3875</td>\n      <td>NaN</td>\n      <td>S</td>\n      <td>True</td>\n      <td>False</td>\n    </tr>\n    <tr>\n      <th>266</th>\n      <td>267</td>\n      <td>0</td>\n      <td>3</td>\n      <td>Panula, Mr. Ernesti Arvid</td>\n      <td>male</td>\n      <td>16.0</td>\n      <td>4</td>\n      <td>1</td>\n      <td>3101295</td>\n      <td>39.6875</td>\n      <td>NaN</td>\n      <td>S</td>\n      <td>True</td>\n      <td>False</td>\n    </tr>\n    <tr>\n      <th>278</th>\n      <td>279</td>\n      <td>0</td>\n      <td>3</td>\n      <td>Rice, Master. Eric</td>\n      <td>male</td>\n      <td>7.0</td>\n      <td>4</td>\n      <td>1</td>\n      <td>382652</td>\n      <td>29.1250</td>\n      <td>NaN</td>\n      <td>Q</td>\n      <td>True</td>\n      <td>False</td>\n    </tr>\n    <tr>\n      <th>324</th>\n      <td>325</td>\n      <td>0</td>\n      <td>3</td>\n      <td>Sage, Mr. George John Jr</td>\n      <td>male</td>\n      <td>NaN</td>\n      <td>8</td>\n      <td>2</td>\n      <td>CA. 2343</td>\n      <td>69.5500</td>\n      <td>NaN</td>\n      <td>S</td>\n      <td>True</td>\n      <td>False</td>\n    </tr>\n    <tr>\n      <th>341</th>\n      <td>342</td>\n      <td>1</td>\n      <td>1</td>\n      <td>Fortune, Miss. Alice Elizabeth</td>\n      <td>female</td>\n      <td>24.0</td>\n      <td>3</td>\n      <td>2</td>\n      <td>19950</td>\n      <td>263.0000</td>\n      <td>C23 C25 C27</td>\n      <td>S</td>\n      <td>True</td>\n      <td>False</td>\n    </tr>\n    <tr>\n      <th>374</th>\n      <td>375</td>\n      <td>0</td>\n      <td>3</td>\n      <td>Palsson, Miss. Stina Viola</td>\n      <td>female</td>\n      <td>3.0</td>\n      <td>3</td>\n      <td>1</td>\n      <td>349909</td>\n      <td>21.0750</td>\n      <td>NaN</td>\n      <td>S</td>\n      <td>True</td>\n      <td>False</td>\n    </tr>\n    <tr>\n      <th>386</th>\n      <td>387</td>\n      <td>0</td>\n      <td>3</td>\n      <td>Goodwin, Master. Sidney Leonard</td>\n      <td>male</td>\n      <td>1.0</td>\n      <td>5</td>\n      <td>2</td>\n      <td>CA 2144</td>\n      <td>46.9000</td>\n      <td>NaN</td>\n      <td>S</td>\n      <td>True</td>\n      <td>False</td>\n    </tr>\n    <tr>\n      <th>409</th>\n      <td>410</td>\n      <td>0</td>\n      <td>3</td>\n      <td>Lefebre, Miss. Ida</td>\n      <td>female</td>\n      <td>NaN</td>\n      <td>3</td>\n      <td>1</td>\n      <td>4133</td>\n      <td>25.4667</td>\n      <td>NaN</td>\n      <td>S</td>\n      <td>True</td>\n      <td>False</td>\n    </tr>\n    <tr>\n      <th>480</th>\n      <td>481</td>\n      <td>0</td>\n      <td>3</td>\n      <td>Goodwin, Master. Harold Victor</td>\n      <td>male</td>\n      <td>9.0</td>\n      <td>5</td>\n      <td>2</td>\n      <td>CA 2144</td>\n      <td>46.9000</td>\n      <td>NaN</td>\n      <td>S</td>\n      <td>True</td>\n      <td>False</td>\n    </tr>\n    <tr>\n      <th>485</th>\n      <td>486</td>\n      <td>0</td>\n      <td>3</td>\n      <td>Lefebre, Miss. Jeannie</td>\n      <td>female</td>\n      <td>NaN</td>\n      <td>3</td>\n      <td>1</td>\n      <td>4133</td>\n      <td>25.4667</td>\n      <td>NaN</td>\n      <td>S</td>\n      <td>True</td>\n      <td>False</td>\n    </tr>\n    <tr>\n      <th>541</th>\n      <td>542</td>\n      <td>0</td>\n      <td>3</td>\n      <td>Andersson, Miss. Ingeborg Constanzia</td>\n      <td>female</td>\n      <td>9.0</td>\n      <td>4</td>\n      <td>2</td>\n      <td>347082</td>\n      <td>31.2750</td>\n      <td>NaN</td>\n      <td>S</td>\n      <td>True</td>\n      <td>False</td>\n    </tr>\n    <tr>\n      <th>542</th>\n      <td>543</td>\n      <td>0</td>\n      <td>3</td>\n      <td>Andersson, Miss. Sigrid Elisabeth</td>\n      <td>female</td>\n      <td>11.0</td>\n      <td>4</td>\n      <td>2</td>\n      <td>347082</td>\n      <td>31.2750</td>\n      <td>NaN</td>\n      <td>S</td>\n      <td>True</td>\n      <td>False</td>\n    </tr>\n    <tr>\n      <th>634</th>\n      <td>635</td>\n      <td>0</td>\n      <td>3</td>\n      <td>Skoog, Miss. Mabel</td>\n      <td>female</td>\n      <td>9.0</td>\n      <td>3</td>\n      <td>2</td>\n      <td>347088</td>\n      <td>27.9000</td>\n      <td>NaN</td>\n      <td>S</td>\n      <td>True</td>\n      <td>False</td>\n    </tr>\n    <tr>\n      <th>642</th>\n      <td>643</td>\n      <td>0</td>\n      <td>3</td>\n      <td>Skoog, Miss. Margit Elizabeth</td>\n      <td>female</td>\n      <td>2.0</td>\n      <td>3</td>\n      <td>2</td>\n      <td>347088</td>\n      <td>27.9000</td>\n      <td>NaN</td>\n      <td>S</td>\n      <td>True</td>\n      <td>False</td>\n    </tr>\n    <tr>\n      <th>683</th>\n      <td>684</td>\n      <td>0</td>\n      <td>3</td>\n      <td>Goodwin, Mr. Charles Edward</td>\n      <td>male</td>\n      <td>14.0</td>\n      <td>5</td>\n      <td>2</td>\n      <td>CA 2144</td>\n      <td>46.9000</td>\n      <td>NaN</td>\n      <td>S</td>\n      <td>True</td>\n      <td>False</td>\n    </tr>\n    <tr>\n      <th>686</th>\n      <td>687</td>\n      <td>0</td>\n      <td>3</td>\n      <td>Panula, Mr. Jaako Arnold</td>\n      <td>male</td>\n      <td>14.0</td>\n      <td>4</td>\n      <td>1</td>\n      <td>3101295</td>\n      <td>39.6875</td>\n      <td>NaN</td>\n      <td>S</td>\n      <td>True</td>\n      <td>False</td>\n    </tr>\n    <tr>\n      <th>726</th>\n      <td>727</td>\n      <td>1</td>\n      <td>2</td>\n      <td>Renouf, Mrs. Peter Henry (Lillian Jefferys)</td>\n      <td>female</td>\n      <td>30.0</td>\n      <td>3</td>\n      <td>0</td>\n      <td>31027</td>\n      <td>21.0000</td>\n      <td>NaN</td>\n      <td>S</td>\n      <td>True</td>\n      <td>False</td>\n    </tr>\n    <tr>\n      <th>787</th>\n      <td>788</td>\n      <td>0</td>\n      <td>3</td>\n      <td>Rice, Master. George Hugh</td>\n      <td>male</td>\n      <td>8.0</td>\n      <td>4</td>\n      <td>1</td>\n      <td>382652</td>\n      <td>29.1250</td>\n      <td>NaN</td>\n      <td>Q</td>\n      <td>True</td>\n      <td>False</td>\n    </tr>\n    <tr>\n      <th>792</th>\n      <td>793</td>\n      <td>0</td>\n      <td>3</td>\n      <td>Sage, Miss. Stella Anna</td>\n      <td>female</td>\n      <td>NaN</td>\n      <td>8</td>\n      <td>2</td>\n      <td>CA. 2343</td>\n      <td>69.5500</td>\n      <td>NaN</td>\n      <td>S</td>\n      <td>True</td>\n      <td>False</td>\n    </tr>\n    <tr>\n      <th>813</th>\n      <td>814</td>\n      <td>0</td>\n      <td>3</td>\n      <td>Andersson, Miss. Ebba Iris Alfrida</td>\n      <td>female</td>\n      <td>6.0</td>\n      <td>4</td>\n      <td>2</td>\n      <td>347082</td>\n      <td>31.2750</td>\n      <td>NaN</td>\n      <td>S</td>\n      <td>True</td>\n      <td>False</td>\n    </tr>\n    <tr>\n      <th>819</th>\n      <td>820</td>\n      <td>0</td>\n      <td>3</td>\n      <td>Skoog, Master. Karl Thorsten</td>\n      <td>male</td>\n      <td>10.0</td>\n      <td>3</td>\n      <td>2</td>\n      <td>347088</td>\n      <td>27.9000</td>\n      <td>NaN</td>\n      <td>S</td>\n      <td>True</td>\n      <td>False</td>\n    </tr>\n    <tr>\n      <th>824</th>\n      <td>825</td>\n      <td>0</td>\n      <td>3</td>\n      <td>Panula, Master. Urho Abraham</td>\n      <td>male</td>\n      <td>2.0</td>\n      <td>4</td>\n      <td>1</td>\n      <td>3101295</td>\n      <td>39.6875</td>\n      <td>NaN</td>\n      <td>S</td>\n      <td>True</td>\n      <td>False</td>\n    </tr>\n    <tr>\n      <th>846</th>\n      <td>847</td>\n      <td>0</td>\n      <td>3</td>\n      <td>Sage, Mr. Douglas Bullen</td>\n      <td>male</td>\n      <td>NaN</td>\n      <td>8</td>\n      <td>2</td>\n      <td>CA. 2343</td>\n      <td>69.5500</td>\n      <td>NaN</td>\n      <td>S</td>\n      <td>True</td>\n      <td>False</td>\n    </tr>\n    <tr>\n      <th>850</th>\n      <td>851</td>\n      <td>0</td>\n      <td>3</td>\n      <td>Andersson, Master. Sigvard Harald Elias</td>\n      <td>male</td>\n      <td>4.0</td>\n      <td>4</td>\n      <td>2</td>\n      <td>347082</td>\n      <td>31.2750</td>\n      <td>NaN</td>\n      <td>S</td>\n      <td>True</td>\n      <td>False</td>\n    </tr>\n    <tr>\n      <th>863</th>\n      <td>864</td>\n      <td>0</td>\n      <td>3</td>\n      <td>Sage, Miss. Dorothy Edith \"Dolly\"</td>\n      <td>female</td>\n      <td>NaN</td>\n      <td>8</td>\n      <td>2</td>\n      <td>CA. 2343</td>\n      <td>69.5500</td>\n      <td>NaN</td>\n      <td>S</td>\n      <td>True</td>\n      <td>False</td>\n    </tr>\n  </tbody>\n</table>\n</div>"
     },
     "metadata": {},
     "execution_count": 63
    }
   ],
   "source": [
    "df[df['Child'] == True]"
   ]
  },
  {
   "cell_type": "code",
   "execution_count": 83,
   "metadata": {},
   "outputs": [
    {
     "output_type": "execute_result",
     "data": {
      "text/plain": [
       "     PassengerId  Survived  Pclass                                       Name  \\\n",
       "390          391         1       1                 Carter, Mr. William Ernest   \n",
       "435          436         1       1                  Carter, Miss. Lucile Polk   \n",
       "763          764         1       1  Carter, Mrs. William Ernest (Lucile Polk)   \n",
       "802          803         1       1        Carter, Master. William Thornton II   \n",
       "\n",
       "        Sex   Age  SibSp  Parch  Ticket   Fare    Cabin Embarked  Child  \\\n",
       "390    male  36.0      1      2  113760  120.0  B96 B98        S  False   \n",
       "435  female  14.0      1      2  113760  120.0  B96 B98        S  False   \n",
       "763  female  36.0      1      2  113760  120.0  B96 B98        S  False   \n",
       "802    male  11.0      1      2  113760  120.0  B96 B98        S  False   \n",
       "\n",
       "     Parent  \n",
       "390   False  \n",
       "435   False  \n",
       "763   False  \n",
       "802   False  "
      ],
      "text/html": "<div>\n<style scoped>\n    .dataframe tbody tr th:only-of-type {\n        vertical-align: middle;\n    }\n\n    .dataframe tbody tr th {\n        vertical-align: top;\n    }\n\n    .dataframe thead th {\n        text-align: right;\n    }\n</style>\n<table border=\"1\" class=\"dataframe\">\n  <thead>\n    <tr style=\"text-align: right;\">\n      <th></th>\n      <th>PassengerId</th>\n      <th>Survived</th>\n      <th>Pclass</th>\n      <th>Name</th>\n      <th>Sex</th>\n      <th>Age</th>\n      <th>SibSp</th>\n      <th>Parch</th>\n      <th>Ticket</th>\n      <th>Fare</th>\n      <th>Cabin</th>\n      <th>Embarked</th>\n      <th>Child</th>\n      <th>Parent</th>\n    </tr>\n  </thead>\n  <tbody>\n    <tr>\n      <th>390</th>\n      <td>391</td>\n      <td>1</td>\n      <td>1</td>\n      <td>Carter, Mr. William Ernest</td>\n      <td>male</td>\n      <td>36.0</td>\n      <td>1</td>\n      <td>2</td>\n      <td>113760</td>\n      <td>120.0</td>\n      <td>B96 B98</td>\n      <td>S</td>\n      <td>False</td>\n      <td>False</td>\n    </tr>\n    <tr>\n      <th>435</th>\n      <td>436</td>\n      <td>1</td>\n      <td>1</td>\n      <td>Carter, Miss. Lucile Polk</td>\n      <td>female</td>\n      <td>14.0</td>\n      <td>1</td>\n      <td>2</td>\n      <td>113760</td>\n      <td>120.0</td>\n      <td>B96 B98</td>\n      <td>S</td>\n      <td>False</td>\n      <td>False</td>\n    </tr>\n    <tr>\n      <th>763</th>\n      <td>764</td>\n      <td>1</td>\n      <td>1</td>\n      <td>Carter, Mrs. William Ernest (Lucile Polk)</td>\n      <td>female</td>\n      <td>36.0</td>\n      <td>1</td>\n      <td>2</td>\n      <td>113760</td>\n      <td>120.0</td>\n      <td>B96 B98</td>\n      <td>S</td>\n      <td>False</td>\n      <td>False</td>\n    </tr>\n    <tr>\n      <th>802</th>\n      <td>803</td>\n      <td>1</td>\n      <td>1</td>\n      <td>Carter, Master. William Thornton II</td>\n      <td>male</td>\n      <td>11.0</td>\n      <td>1</td>\n      <td>2</td>\n      <td>113760</td>\n      <td>120.0</td>\n      <td>B96 B98</td>\n      <td>S</td>\n      <td>False</td>\n      <td>False</td>\n    </tr>\n  </tbody>\n</table>\n</div>"
     },
     "metadata": {},
     "execution_count": 83
    }
   ],
   "source": [
    "df[ df.Cabin.notna() & df['Cabin'].str.contains('B96 B98')]"
   ]
  },
  {
   "cell_type": "code",
   "execution_count": 65,
   "metadata": {},
   "outputs": [
    {
     "output_type": "execute_result",
     "data": {
      "text/plain": [
       "     PassengerId  Survived  Pclass                            Name     Sex  \\\n",
       "27            28         0       1  Fortune, Mr. Charles Alexander    male   \n",
       "88            89         1       1      Fortune, Miss. Mabel Helen  female   \n",
       "341          342         1       1  Fortune, Miss. Alice Elizabeth  female   \n",
       "438          439         0       1               Fortune, Mr. Mark    male   \n",
       "\n",
       "      Age  SibSp  Parch Ticket   Fare        Cabin Embarked  Child  Parent  \n",
       "27   19.0      3      2  19950  263.0  C23 C25 C27        S   True   False  \n",
       "88   23.0      3      2  19950  263.0  C23 C25 C27        S   True   False  \n",
       "341  24.0      3      2  19950  263.0  C23 C25 C27        S   True   False  \n",
       "438  64.0      1      4  19950  263.0  C23 C25 C27        S  False    True  "
      ],
      "text/html": "<div>\n<style scoped>\n    .dataframe tbody tr th:only-of-type {\n        vertical-align: middle;\n    }\n\n    .dataframe tbody tr th {\n        vertical-align: top;\n    }\n\n    .dataframe thead th {\n        text-align: right;\n    }\n</style>\n<table border=\"1\" class=\"dataframe\">\n  <thead>\n    <tr style=\"text-align: right;\">\n      <th></th>\n      <th>PassengerId</th>\n      <th>Survived</th>\n      <th>Pclass</th>\n      <th>Name</th>\n      <th>Sex</th>\n      <th>Age</th>\n      <th>SibSp</th>\n      <th>Parch</th>\n      <th>Ticket</th>\n      <th>Fare</th>\n      <th>Cabin</th>\n      <th>Embarked</th>\n      <th>Child</th>\n      <th>Parent</th>\n    </tr>\n  </thead>\n  <tbody>\n    <tr>\n      <th>27</th>\n      <td>28</td>\n      <td>0</td>\n      <td>1</td>\n      <td>Fortune, Mr. Charles Alexander</td>\n      <td>male</td>\n      <td>19.0</td>\n      <td>3</td>\n      <td>2</td>\n      <td>19950</td>\n      <td>263.0</td>\n      <td>C23 C25 C27</td>\n      <td>S</td>\n      <td>True</td>\n      <td>False</td>\n    </tr>\n    <tr>\n      <th>88</th>\n      <td>89</td>\n      <td>1</td>\n      <td>1</td>\n      <td>Fortune, Miss. Mabel Helen</td>\n      <td>female</td>\n      <td>23.0</td>\n      <td>3</td>\n      <td>2</td>\n      <td>19950</td>\n      <td>263.0</td>\n      <td>C23 C25 C27</td>\n      <td>S</td>\n      <td>True</td>\n      <td>False</td>\n    </tr>\n    <tr>\n      <th>341</th>\n      <td>342</td>\n      <td>1</td>\n      <td>1</td>\n      <td>Fortune, Miss. Alice Elizabeth</td>\n      <td>female</td>\n      <td>24.0</td>\n      <td>3</td>\n      <td>2</td>\n      <td>19950</td>\n      <td>263.0</td>\n      <td>C23 C25 C27</td>\n      <td>S</td>\n      <td>True</td>\n      <td>False</td>\n    </tr>\n    <tr>\n      <th>438</th>\n      <td>439</td>\n      <td>0</td>\n      <td>1</td>\n      <td>Fortune, Mr. Mark</td>\n      <td>male</td>\n      <td>64.0</td>\n      <td>1</td>\n      <td>4</td>\n      <td>19950</td>\n      <td>263.0</td>\n      <td>C23 C25 C27</td>\n      <td>S</td>\n      <td>False</td>\n      <td>True</td>\n    </tr>\n  </tbody>\n</table>\n</div>"
     },
     "metadata": {},
     "execution_count": 65
    }
   ],
   "source": [
    "\n",
    "df[df['Name'].str.contains(\"Fortune,\")]"
   ]
  },
  {
   "cell_type": "code",
   "execution_count": 66,
   "metadata": {},
   "outputs": [
    {
     "output_type": "execute_result",
     "data": {
      "text/plain": [
       "     PassengerId  Survived  Pclass                            Name     Sex  \\\n",
       "27            28         0       1  Fortune, Mr. Charles Alexander    male   \n",
       "88            89         1       1      Fortune, Miss. Mabel Helen  female   \n",
       "341          342         1       1  Fortune, Miss. Alice Elizabeth  female   \n",
       "438          439         0       1               Fortune, Mr. Mark    male   \n",
       "\n",
       "      Age  SibSp  Parch Ticket   Fare        Cabin Embarked  Child  Parent  \n",
       "27   19.0      3      2  19950  263.0  C23 C25 C27        S   True   False  \n",
       "88   23.0      3      2  19950  263.0  C23 C25 C27        S   True   False  \n",
       "341  24.0      3      2  19950  263.0  C23 C25 C27        S   True   False  \n",
       "438  64.0      1      4  19950  263.0  C23 C25 C27        S  False    True  "
      ],
      "text/html": "<div>\n<style scoped>\n    .dataframe tbody tr th:only-of-type {\n        vertical-align: middle;\n    }\n\n    .dataframe tbody tr th {\n        vertical-align: top;\n    }\n\n    .dataframe thead th {\n        text-align: right;\n    }\n</style>\n<table border=\"1\" class=\"dataframe\">\n  <thead>\n    <tr style=\"text-align: right;\">\n      <th></th>\n      <th>PassengerId</th>\n      <th>Survived</th>\n      <th>Pclass</th>\n      <th>Name</th>\n      <th>Sex</th>\n      <th>Age</th>\n      <th>SibSp</th>\n      <th>Parch</th>\n      <th>Ticket</th>\n      <th>Fare</th>\n      <th>Cabin</th>\n      <th>Embarked</th>\n      <th>Child</th>\n      <th>Parent</th>\n    </tr>\n  </thead>\n  <tbody>\n    <tr>\n      <th>27</th>\n      <td>28</td>\n      <td>0</td>\n      <td>1</td>\n      <td>Fortune, Mr. Charles Alexander</td>\n      <td>male</td>\n      <td>19.0</td>\n      <td>3</td>\n      <td>2</td>\n      <td>19950</td>\n      <td>263.0</td>\n      <td>C23 C25 C27</td>\n      <td>S</td>\n      <td>True</td>\n      <td>False</td>\n    </tr>\n    <tr>\n      <th>88</th>\n      <td>89</td>\n      <td>1</td>\n      <td>1</td>\n      <td>Fortune, Miss. Mabel Helen</td>\n      <td>female</td>\n      <td>23.0</td>\n      <td>3</td>\n      <td>2</td>\n      <td>19950</td>\n      <td>263.0</td>\n      <td>C23 C25 C27</td>\n      <td>S</td>\n      <td>True</td>\n      <td>False</td>\n    </tr>\n    <tr>\n      <th>341</th>\n      <td>342</td>\n      <td>1</td>\n      <td>1</td>\n      <td>Fortune, Miss. Alice Elizabeth</td>\n      <td>female</td>\n      <td>24.0</td>\n      <td>3</td>\n      <td>2</td>\n      <td>19950</td>\n      <td>263.0</td>\n      <td>C23 C25 C27</td>\n      <td>S</td>\n      <td>True</td>\n      <td>False</td>\n    </tr>\n    <tr>\n      <th>438</th>\n      <td>439</td>\n      <td>0</td>\n      <td>1</td>\n      <td>Fortune, Mr. Mark</td>\n      <td>male</td>\n      <td>64.0</td>\n      <td>1</td>\n      <td>4</td>\n      <td>19950</td>\n      <td>263.0</td>\n      <td>C23 C25 C27</td>\n      <td>S</td>\n      <td>False</td>\n      <td>True</td>\n    </tr>\n  </tbody>\n</table>\n</div>"
     },
     "metadata": {},
     "execution_count": 66
    }
   ],
   "source": [
    "df[df['Fare'] == 263.0000]"
   ]
  },
  {
   "cell_type": "code",
   "execution_count": null,
   "metadata": {},
   "outputs": [],
   "source": []
  },
  {
   "cell_type": "code",
   "execution_count": 84,
   "metadata": {},
   "outputs": [
    {
     "output_type": "execute_result",
     "data": {
      "text/plain": [
       "     PassengerId  Survived  Pclass                                       Name  \\\n",
       "390          391         1       1                 Carter, Mr. William Ernest   \n",
       "435          436         1       1                  Carter, Miss. Lucile Polk   \n",
       "763          764         1       1  Carter, Mrs. William Ernest (Lucile Polk)   \n",
       "802          803         1       1        Carter, Master. William Thornton II   \n",
       "\n",
       "        Sex   Age  SibSp  Parch  Ticket   Fare    Cabin Embarked  Child  \\\n",
       "390    male  36.0      1      2  113760  120.0  B96 B98        S  False   \n",
       "435  female  14.0      1      2  113760  120.0  B96 B98        S  False   \n",
       "763  female  36.0      1      2  113760  120.0  B96 B98        S  False   \n",
       "802    male  11.0      1      2  113760  120.0  B96 B98        S  False   \n",
       "\n",
       "     Parent  \n",
       "390   False  \n",
       "435   False  \n",
       "763   False  \n",
       "802   False  "
      ],
      "text/html": "<div>\n<style scoped>\n    .dataframe tbody tr th:only-of-type {\n        vertical-align: middle;\n    }\n\n    .dataframe tbody tr th {\n        vertical-align: top;\n    }\n\n    .dataframe thead th {\n        text-align: right;\n    }\n</style>\n<table border=\"1\" class=\"dataframe\">\n  <thead>\n    <tr style=\"text-align: right;\">\n      <th></th>\n      <th>PassengerId</th>\n      <th>Survived</th>\n      <th>Pclass</th>\n      <th>Name</th>\n      <th>Sex</th>\n      <th>Age</th>\n      <th>SibSp</th>\n      <th>Parch</th>\n      <th>Ticket</th>\n      <th>Fare</th>\n      <th>Cabin</th>\n      <th>Embarked</th>\n      <th>Child</th>\n      <th>Parent</th>\n    </tr>\n  </thead>\n  <tbody>\n    <tr>\n      <th>390</th>\n      <td>391</td>\n      <td>1</td>\n      <td>1</td>\n      <td>Carter, Mr. William Ernest</td>\n      <td>male</td>\n      <td>36.0</td>\n      <td>1</td>\n      <td>2</td>\n      <td>113760</td>\n      <td>120.0</td>\n      <td>B96 B98</td>\n      <td>S</td>\n      <td>False</td>\n      <td>False</td>\n    </tr>\n    <tr>\n      <th>435</th>\n      <td>436</td>\n      <td>1</td>\n      <td>1</td>\n      <td>Carter, Miss. Lucile Polk</td>\n      <td>female</td>\n      <td>14.0</td>\n      <td>1</td>\n      <td>2</td>\n      <td>113760</td>\n      <td>120.0</td>\n      <td>B96 B98</td>\n      <td>S</td>\n      <td>False</td>\n      <td>False</td>\n    </tr>\n    <tr>\n      <th>763</th>\n      <td>764</td>\n      <td>1</td>\n      <td>1</td>\n      <td>Carter, Mrs. William Ernest (Lucile Polk)</td>\n      <td>female</td>\n      <td>36.0</td>\n      <td>1</td>\n      <td>2</td>\n      <td>113760</td>\n      <td>120.0</td>\n      <td>B96 B98</td>\n      <td>S</td>\n      <td>False</td>\n      <td>False</td>\n    </tr>\n    <tr>\n      <th>802</th>\n      <td>803</td>\n      <td>1</td>\n      <td>1</td>\n      <td>Carter, Master. William Thornton II</td>\n      <td>male</td>\n      <td>11.0</td>\n      <td>1</td>\n      <td>2</td>\n      <td>113760</td>\n      <td>120.0</td>\n      <td>B96 B98</td>\n      <td>S</td>\n      <td>False</td>\n      <td>False</td>\n    </tr>\n  </tbody>\n</table>\n</div>"
     },
     "metadata": {},
     "execution_count": 84
    }
   ],
   "source": [
    "df[df['Ticket'] == '113760']\n"
   ]
  },
  {
   "cell_type": "code",
   "execution_count": 68,
   "metadata": {},
   "outputs": [
    {
     "output_type": "execute_result",
     "data": {
      "text/plain": [
       "     PassengerId  Survived  Pclass  \\\n",
       "13            14         0       3   \n",
       "25            26         1       3   \n",
       "86            87         0       3   \n",
       "167          168         0       3   \n",
       "360          361         0       3   \n",
       "437          438         1       2   \n",
       "438          439         0       1   \n",
       "567          568         0       3   \n",
       "610          611         0       3   \n",
       "638          639         0       3   \n",
       "678          679         0       3   \n",
       "736          737         0       3   \n",
       "774          775         1       2   \n",
       "858          859         1       3   \n",
       "885          886         0       3   \n",
       "\n",
       "                                                  Name     Sex   Age  SibSp  \\\n",
       "13                         Andersson, Mr. Anders Johan    male  39.0      1   \n",
       "25   Asplund, Mrs. Carl Oscar (Selma Augusta Emilia...  female  38.0      1   \n",
       "86                              Ford, Mr. William Neal    male  16.0      1   \n",
       "167    Skoog, Mrs. William (Anna Bernhardina Karlsson)  female  45.0      1   \n",
       "360                                 Skoog, Mr. Wilhelm    male  40.0      1   \n",
       "437              Richards, Mrs. Sidney (Emily Hocking)  female  24.0      2   \n",
       "438                                  Fortune, Mr. Mark    male  64.0      1   \n",
       "567        Palsson, Mrs. Nils (Alma Cornelia Berglund)  female  29.0      0   \n",
       "610  Andersson, Mrs. Anders Johan (Alfrida Konstant...  female  39.0      1   \n",
       "638             Panula, Mrs. Juha (Maria Emilia Ojala)  female  41.0      0   \n",
       "678            Goodwin, Mrs. Frederick (Augusta Tyler)  female  43.0      1   \n",
       "736            Ford, Mrs. Edward (Margaret Ann Watson)  female  48.0      1   \n",
       "774              Hocking, Mrs. Elizabeth (Eliza Needs)  female  54.0      1   \n",
       "858              Baclini, Mrs. Solomon (Latifa Qurban)  female  24.0      0   \n",
       "885               Rice, Mrs. William (Margaret Norton)  female  39.0      0   \n",
       "\n",
       "     Parch      Ticket      Fare        Cabin Embarked  Child  Parent  \n",
       "13       5      347082   31.2750          NaN        S  False    True  \n",
       "25       5      347077   31.3875          NaN        S  False    True  \n",
       "86       3  W./C. 6608   34.3750          NaN        S  False    True  \n",
       "167      4      347088   27.9000          NaN        S  False    True  \n",
       "360      4      347088   27.9000          NaN        S  False    True  \n",
       "437      3       29106   18.7500          NaN        S  False    True  \n",
       "438      4       19950  263.0000  C23 C25 C27        S  False    True  \n",
       "567      4      349909   21.0750          NaN        S  False    True  \n",
       "610      5      347082   31.2750          NaN        S  False    True  \n",
       "638      5     3101295   39.6875          NaN        S  False    True  \n",
       "678      6     CA 2144   46.9000          NaN        S  False    True  \n",
       "736      3  W./C. 6608   34.3750          NaN        S  False    True  \n",
       "774      3       29105   23.0000          NaN        S  False    True  \n",
       "858      3        2666   19.2583          NaN        C  False    True  \n",
       "885      5      382652   29.1250          NaN        Q  False    True  "
      ],
      "text/html": "<div>\n<style scoped>\n    .dataframe tbody tr th:only-of-type {\n        vertical-align: middle;\n    }\n\n    .dataframe tbody tr th {\n        vertical-align: top;\n    }\n\n    .dataframe thead th {\n        text-align: right;\n    }\n</style>\n<table border=\"1\" class=\"dataframe\">\n  <thead>\n    <tr style=\"text-align: right;\">\n      <th></th>\n      <th>PassengerId</th>\n      <th>Survived</th>\n      <th>Pclass</th>\n      <th>Name</th>\n      <th>Sex</th>\n      <th>Age</th>\n      <th>SibSp</th>\n      <th>Parch</th>\n      <th>Ticket</th>\n      <th>Fare</th>\n      <th>Cabin</th>\n      <th>Embarked</th>\n      <th>Child</th>\n      <th>Parent</th>\n    </tr>\n  </thead>\n  <tbody>\n    <tr>\n      <th>13</th>\n      <td>14</td>\n      <td>0</td>\n      <td>3</td>\n      <td>Andersson, Mr. Anders Johan</td>\n      <td>male</td>\n      <td>39.0</td>\n      <td>1</td>\n      <td>5</td>\n      <td>347082</td>\n      <td>31.2750</td>\n      <td>NaN</td>\n      <td>S</td>\n      <td>False</td>\n      <td>True</td>\n    </tr>\n    <tr>\n      <th>25</th>\n      <td>26</td>\n      <td>1</td>\n      <td>3</td>\n      <td>Asplund, Mrs. Carl Oscar (Selma Augusta Emilia...</td>\n      <td>female</td>\n      <td>38.0</td>\n      <td>1</td>\n      <td>5</td>\n      <td>347077</td>\n      <td>31.3875</td>\n      <td>NaN</td>\n      <td>S</td>\n      <td>False</td>\n      <td>True</td>\n    </tr>\n    <tr>\n      <th>86</th>\n      <td>87</td>\n      <td>0</td>\n      <td>3</td>\n      <td>Ford, Mr. William Neal</td>\n      <td>male</td>\n      <td>16.0</td>\n      <td>1</td>\n      <td>3</td>\n      <td>W./C. 6608</td>\n      <td>34.3750</td>\n      <td>NaN</td>\n      <td>S</td>\n      <td>False</td>\n      <td>True</td>\n    </tr>\n    <tr>\n      <th>167</th>\n      <td>168</td>\n      <td>0</td>\n      <td>3</td>\n      <td>Skoog, Mrs. William (Anna Bernhardina Karlsson)</td>\n      <td>female</td>\n      <td>45.0</td>\n      <td>1</td>\n      <td>4</td>\n      <td>347088</td>\n      <td>27.9000</td>\n      <td>NaN</td>\n      <td>S</td>\n      <td>False</td>\n      <td>True</td>\n    </tr>\n    <tr>\n      <th>360</th>\n      <td>361</td>\n      <td>0</td>\n      <td>3</td>\n      <td>Skoog, Mr. Wilhelm</td>\n      <td>male</td>\n      <td>40.0</td>\n      <td>1</td>\n      <td>4</td>\n      <td>347088</td>\n      <td>27.9000</td>\n      <td>NaN</td>\n      <td>S</td>\n      <td>False</td>\n      <td>True</td>\n    </tr>\n    <tr>\n      <th>437</th>\n      <td>438</td>\n      <td>1</td>\n      <td>2</td>\n      <td>Richards, Mrs. Sidney (Emily Hocking)</td>\n      <td>female</td>\n      <td>24.0</td>\n      <td>2</td>\n      <td>3</td>\n      <td>29106</td>\n      <td>18.7500</td>\n      <td>NaN</td>\n      <td>S</td>\n      <td>False</td>\n      <td>True</td>\n    </tr>\n    <tr>\n      <th>438</th>\n      <td>439</td>\n      <td>0</td>\n      <td>1</td>\n      <td>Fortune, Mr. Mark</td>\n      <td>male</td>\n      <td>64.0</td>\n      <td>1</td>\n      <td>4</td>\n      <td>19950</td>\n      <td>263.0000</td>\n      <td>C23 C25 C27</td>\n      <td>S</td>\n      <td>False</td>\n      <td>True</td>\n    </tr>\n    <tr>\n      <th>567</th>\n      <td>568</td>\n      <td>0</td>\n      <td>3</td>\n      <td>Palsson, Mrs. Nils (Alma Cornelia Berglund)</td>\n      <td>female</td>\n      <td>29.0</td>\n      <td>0</td>\n      <td>4</td>\n      <td>349909</td>\n      <td>21.0750</td>\n      <td>NaN</td>\n      <td>S</td>\n      <td>False</td>\n      <td>True</td>\n    </tr>\n    <tr>\n      <th>610</th>\n      <td>611</td>\n      <td>0</td>\n      <td>3</td>\n      <td>Andersson, Mrs. Anders Johan (Alfrida Konstant...</td>\n      <td>female</td>\n      <td>39.0</td>\n      <td>1</td>\n      <td>5</td>\n      <td>347082</td>\n      <td>31.2750</td>\n      <td>NaN</td>\n      <td>S</td>\n      <td>False</td>\n      <td>True</td>\n    </tr>\n    <tr>\n      <th>638</th>\n      <td>639</td>\n      <td>0</td>\n      <td>3</td>\n      <td>Panula, Mrs. Juha (Maria Emilia Ojala)</td>\n      <td>female</td>\n      <td>41.0</td>\n      <td>0</td>\n      <td>5</td>\n      <td>3101295</td>\n      <td>39.6875</td>\n      <td>NaN</td>\n      <td>S</td>\n      <td>False</td>\n      <td>True</td>\n    </tr>\n    <tr>\n      <th>678</th>\n      <td>679</td>\n      <td>0</td>\n      <td>3</td>\n      <td>Goodwin, Mrs. Frederick (Augusta Tyler)</td>\n      <td>female</td>\n      <td>43.0</td>\n      <td>1</td>\n      <td>6</td>\n      <td>CA 2144</td>\n      <td>46.9000</td>\n      <td>NaN</td>\n      <td>S</td>\n      <td>False</td>\n      <td>True</td>\n    </tr>\n    <tr>\n      <th>736</th>\n      <td>737</td>\n      <td>0</td>\n      <td>3</td>\n      <td>Ford, Mrs. Edward (Margaret Ann Watson)</td>\n      <td>female</td>\n      <td>48.0</td>\n      <td>1</td>\n      <td>3</td>\n      <td>W./C. 6608</td>\n      <td>34.3750</td>\n      <td>NaN</td>\n      <td>S</td>\n      <td>False</td>\n      <td>True</td>\n    </tr>\n    <tr>\n      <th>774</th>\n      <td>775</td>\n      <td>1</td>\n      <td>2</td>\n      <td>Hocking, Mrs. Elizabeth (Eliza Needs)</td>\n      <td>female</td>\n      <td>54.0</td>\n      <td>1</td>\n      <td>3</td>\n      <td>29105</td>\n      <td>23.0000</td>\n      <td>NaN</td>\n      <td>S</td>\n      <td>False</td>\n      <td>True</td>\n    </tr>\n    <tr>\n      <th>858</th>\n      <td>859</td>\n      <td>1</td>\n      <td>3</td>\n      <td>Baclini, Mrs. Solomon (Latifa Qurban)</td>\n      <td>female</td>\n      <td>24.0</td>\n      <td>0</td>\n      <td>3</td>\n      <td>2666</td>\n      <td>19.2583</td>\n      <td>NaN</td>\n      <td>C</td>\n      <td>False</td>\n      <td>True</td>\n    </tr>\n    <tr>\n      <th>885</th>\n      <td>886</td>\n      <td>0</td>\n      <td>3</td>\n      <td>Rice, Mrs. William (Margaret Norton)</td>\n      <td>female</td>\n      <td>39.0</td>\n      <td>0</td>\n      <td>5</td>\n      <td>382652</td>\n      <td>29.1250</td>\n      <td>NaN</td>\n      <td>Q</td>\n      <td>False</td>\n      <td>True</td>\n    </tr>\n  </tbody>\n</table>\n</div>"
     },
     "metadata": {},
     "execution_count": 68
    }
   ],
   "source": [
    "df[df.Parent == True]"
   ]
  },
  {
   "cell_type": "code",
   "execution_count": 80,
   "metadata": {},
   "outputs": [
    {
     "output_type": "execute_result",
     "data": {
      "text/plain": [
       "False    845\n",
       "True      46\n",
       "Name: Child, dtype: int64"
      ]
     },
     "metadata": {},
     "execution_count": 80
    }
   ],
   "source": [
    "df['Child'].value_counts()"
   ]
  },
  {
   "cell_type": "code",
   "execution_count": 82,
   "metadata": {},
   "outputs": [
    {
     "output_type": "execute_result",
     "data": {
      "text/plain": [
       "B96 B98        4\n",
       "C23 C25 C27    4\n",
       "G6             4\n",
       "F33            3\n",
       "D              3\n",
       "              ..\n",
       "F E69          1\n",
       "E50            1\n",
       "D15            1\n",
       "A19            1\n",
       "F38            1\n",
       "Name: Cabin, Length: 147, dtype: int64"
      ]
     },
     "metadata": {},
     "execution_count": 82
    }
   ],
   "source": [
    "df['Cabin'].value_counts()"
   ]
  },
  {
   "cell_type": "code",
   "execution_count": 122,
   "metadata": {},
   "outputs": [
    {
     "output_type": "execute_result",
     "data": {
      "text/plain": [
       "     PassengerId  Survived  Pclass  \\\n",
       "258          259         1       1   \n",
       "737          738         1       1   \n",
       "679          680         1       1   \n",
       "88            89         1       1   \n",
       "27            28         0       1   \n",
       "341          342         1       1   \n",
       "438          439         0       1   \n",
       "311          312         1       1   \n",
       "742          743         1       1   \n",
       "118          119         0       1   \n",
       "299          300         1       1   \n",
       "557          558         0       1   \n",
       "700          701         1       1   \n",
       "380          381         1       1   \n",
       "716          717         1       1   \n",
       "527          528         0       1   \n",
       "377          378         0       1   \n",
       "730          731         1       1   \n",
       "779          780         1       1   \n",
       "689          690         1       1   \n",
       "\n",
       "                                                  Name     Sex   Age  SibSp  \\\n",
       "258                                   Ward, Miss. Anna  female  35.0      0   \n",
       "737                             Lesurer, Mr. Gustave J    male  35.0      0   \n",
       "679                 Cardeza, Mr. Thomas Drake Martinez    male  36.0      0   \n",
       "88                          Fortune, Miss. Mabel Helen  female  23.0      3   \n",
       "27                      Fortune, Mr. Charles Alexander    male  19.0      3   \n",
       "341                     Fortune, Miss. Alice Elizabeth  female  24.0      3   \n",
       "438                                  Fortune, Mr. Mark    male  64.0      1   \n",
       "311                         Ryerson, Miss. Emily Borie  female  18.0      2   \n",
       "742              Ryerson, Miss. Susan Parker \"Suzette\"  female  21.0      2   \n",
       "118                           Baxter, Mr. Quigg Edmond    male  24.0      0   \n",
       "299    Baxter, Mrs. James (Helene DeLaudeniere Chaput)  female  50.0      0   \n",
       "557                                Robbins, Mr. Victor    male   NaN      0   \n",
       "700  Astor, Mrs. John Jacob (Madeleine Talmadge Force)  female  18.0      1   \n",
       "380                              Bidois, Miss. Rosalie  female  42.0      0   \n",
       "716                      Endres, Miss. Caroline Louise  female  38.0      0   \n",
       "527                                 Farthing, Mr. John    male   NaN      0   \n",
       "377                          Widener, Mr. Harry Elkins    male  27.0      0   \n",
       "730                      Allen, Miss. Elisabeth Walton  female  29.0      0   \n",
       "779  Robert, Mrs. Edward Scott (Elisabeth Walton Mc...  female  43.0      0   \n",
       "689                  Madill, Miss. Georgette Alexandra  female  15.0      0   \n",
       "\n",
       "     Parch    Ticket      Fare            Cabin Embarked  Child  Parent  \n",
       "258      0  PC 17755  512.3292              NaN        C  False   False  \n",
       "737      0  PC 17755  512.3292             B101        C  False   False  \n",
       "679      1  PC 17755  512.3292      B51 B53 B55        C  False   False  \n",
       "88       2     19950  263.0000      C23 C25 C27        S   True   False  \n",
       "27       2     19950  263.0000      C23 C25 C27        S   True   False  \n",
       "341      2     19950  263.0000      C23 C25 C27        S   True   False  \n",
       "438      4     19950  263.0000      C23 C25 C27        S  False    True  \n",
       "311      2  PC 17608  262.3750  B57 B59 B63 B66        C  False   False  \n",
       "742      2  PC 17608  262.3750  B57 B59 B63 B66        C  False   False  \n",
       "118      1  PC 17558  247.5208          B58 B60        C  False   False  \n",
       "299      1  PC 17558  247.5208          B58 B60        C  False   False  \n",
       "557      0  PC 17757  227.5250              NaN        C  False   False  \n",
       "700      0  PC 17757  227.5250          C62 C64        C  False   False  \n",
       "380      0  PC 17757  227.5250              NaN        C  False   False  \n",
       "716      0  PC 17757  227.5250              C45        C  False   False  \n",
       "527      0  PC 17483  221.7792              C95        S  False   False  \n",
       "377      2    113503  211.5000              C82        C  False   False  \n",
       "730      0     24160  211.3375               B5        S  False   False  \n",
       "779      1     24160  211.3375               B3        S  False   False  \n",
       "689      1     24160  211.3375               B5        S  False   False  "
      ],
      "text/html": "<div>\n<style scoped>\n    .dataframe tbody tr th:only-of-type {\n        vertical-align: middle;\n    }\n\n    .dataframe tbody tr th {\n        vertical-align: top;\n    }\n\n    .dataframe thead th {\n        text-align: right;\n    }\n</style>\n<table border=\"1\" class=\"dataframe\">\n  <thead>\n    <tr style=\"text-align: right;\">\n      <th></th>\n      <th>PassengerId</th>\n      <th>Survived</th>\n      <th>Pclass</th>\n      <th>Name</th>\n      <th>Sex</th>\n      <th>Age</th>\n      <th>SibSp</th>\n      <th>Parch</th>\n      <th>Ticket</th>\n      <th>Fare</th>\n      <th>Cabin</th>\n      <th>Embarked</th>\n      <th>Child</th>\n      <th>Parent</th>\n    </tr>\n  </thead>\n  <tbody>\n    <tr>\n      <th>258</th>\n      <td>259</td>\n      <td>1</td>\n      <td>1</td>\n      <td>Ward, Miss. Anna</td>\n      <td>female</td>\n      <td>35.0</td>\n      <td>0</td>\n      <td>0</td>\n      <td>PC 17755</td>\n      <td>512.3292</td>\n      <td>NaN</td>\n      <td>C</td>\n      <td>False</td>\n      <td>False</td>\n    </tr>\n    <tr>\n      <th>737</th>\n      <td>738</td>\n      <td>1</td>\n      <td>1</td>\n      <td>Lesurer, Mr. Gustave J</td>\n      <td>male</td>\n      <td>35.0</td>\n      <td>0</td>\n      <td>0</td>\n      <td>PC 17755</td>\n      <td>512.3292</td>\n      <td>B101</td>\n      <td>C</td>\n      <td>False</td>\n      <td>False</td>\n    </tr>\n    <tr>\n      <th>679</th>\n      <td>680</td>\n      <td>1</td>\n      <td>1</td>\n      <td>Cardeza, Mr. Thomas Drake Martinez</td>\n      <td>male</td>\n      <td>36.0</td>\n      <td>0</td>\n      <td>1</td>\n      <td>PC 17755</td>\n      <td>512.3292</td>\n      <td>B51 B53 B55</td>\n      <td>C</td>\n      <td>False</td>\n      <td>False</td>\n    </tr>\n    <tr>\n      <th>88</th>\n      <td>89</td>\n      <td>1</td>\n      <td>1</td>\n      <td>Fortune, Miss. Mabel Helen</td>\n      <td>female</td>\n      <td>23.0</td>\n      <td>3</td>\n      <td>2</td>\n      <td>19950</td>\n      <td>263.0000</td>\n      <td>C23 C25 C27</td>\n      <td>S</td>\n      <td>True</td>\n      <td>False</td>\n    </tr>\n    <tr>\n      <th>27</th>\n      <td>28</td>\n      <td>0</td>\n      <td>1</td>\n      <td>Fortune, Mr. Charles Alexander</td>\n      <td>male</td>\n      <td>19.0</td>\n      <td>3</td>\n      <td>2</td>\n      <td>19950</td>\n      <td>263.0000</td>\n      <td>C23 C25 C27</td>\n      <td>S</td>\n      <td>True</td>\n      <td>False</td>\n    </tr>\n    <tr>\n      <th>341</th>\n      <td>342</td>\n      <td>1</td>\n      <td>1</td>\n      <td>Fortune, Miss. Alice Elizabeth</td>\n      <td>female</td>\n      <td>24.0</td>\n      <td>3</td>\n      <td>2</td>\n      <td>19950</td>\n      <td>263.0000</td>\n      <td>C23 C25 C27</td>\n      <td>S</td>\n      <td>True</td>\n      <td>False</td>\n    </tr>\n    <tr>\n      <th>438</th>\n      <td>439</td>\n      <td>0</td>\n      <td>1</td>\n      <td>Fortune, Mr. Mark</td>\n      <td>male</td>\n      <td>64.0</td>\n      <td>1</td>\n      <td>4</td>\n      <td>19950</td>\n      <td>263.0000</td>\n      <td>C23 C25 C27</td>\n      <td>S</td>\n      <td>False</td>\n      <td>True</td>\n    </tr>\n    <tr>\n      <th>311</th>\n      <td>312</td>\n      <td>1</td>\n      <td>1</td>\n      <td>Ryerson, Miss. Emily Borie</td>\n      <td>female</td>\n      <td>18.0</td>\n      <td>2</td>\n      <td>2</td>\n      <td>PC 17608</td>\n      <td>262.3750</td>\n      <td>B57 B59 B63 B66</td>\n      <td>C</td>\n      <td>False</td>\n      <td>False</td>\n    </tr>\n    <tr>\n      <th>742</th>\n      <td>743</td>\n      <td>1</td>\n      <td>1</td>\n      <td>Ryerson, Miss. Susan Parker \"Suzette\"</td>\n      <td>female</td>\n      <td>21.0</td>\n      <td>2</td>\n      <td>2</td>\n      <td>PC 17608</td>\n      <td>262.3750</td>\n      <td>B57 B59 B63 B66</td>\n      <td>C</td>\n      <td>False</td>\n      <td>False</td>\n    </tr>\n    <tr>\n      <th>118</th>\n      <td>119</td>\n      <td>0</td>\n      <td>1</td>\n      <td>Baxter, Mr. Quigg Edmond</td>\n      <td>male</td>\n      <td>24.0</td>\n      <td>0</td>\n      <td>1</td>\n      <td>PC 17558</td>\n      <td>247.5208</td>\n      <td>B58 B60</td>\n      <td>C</td>\n      <td>False</td>\n      <td>False</td>\n    </tr>\n    <tr>\n      <th>299</th>\n      <td>300</td>\n      <td>1</td>\n      <td>1</td>\n      <td>Baxter, Mrs. James (Helene DeLaudeniere Chaput)</td>\n      <td>female</td>\n      <td>50.0</td>\n      <td>0</td>\n      <td>1</td>\n      <td>PC 17558</td>\n      <td>247.5208</td>\n      <td>B58 B60</td>\n      <td>C</td>\n      <td>False</td>\n      <td>False</td>\n    </tr>\n    <tr>\n      <th>557</th>\n      <td>558</td>\n      <td>0</td>\n      <td>1</td>\n      <td>Robbins, Mr. Victor</td>\n      <td>male</td>\n      <td>NaN</td>\n      <td>0</td>\n      <td>0</td>\n      <td>PC 17757</td>\n      <td>227.5250</td>\n      <td>NaN</td>\n      <td>C</td>\n      <td>False</td>\n      <td>False</td>\n    </tr>\n    <tr>\n      <th>700</th>\n      <td>701</td>\n      <td>1</td>\n      <td>1</td>\n      <td>Astor, Mrs. John Jacob (Madeleine Talmadge Force)</td>\n      <td>female</td>\n      <td>18.0</td>\n      <td>1</td>\n      <td>0</td>\n      <td>PC 17757</td>\n      <td>227.5250</td>\n      <td>C62 C64</td>\n      <td>C</td>\n      <td>False</td>\n      <td>False</td>\n    </tr>\n    <tr>\n      <th>380</th>\n      <td>381</td>\n      <td>1</td>\n      <td>1</td>\n      <td>Bidois, Miss. Rosalie</td>\n      <td>female</td>\n      <td>42.0</td>\n      <td>0</td>\n      <td>0</td>\n      <td>PC 17757</td>\n      <td>227.5250</td>\n      <td>NaN</td>\n      <td>C</td>\n      <td>False</td>\n      <td>False</td>\n    </tr>\n    <tr>\n      <th>716</th>\n      <td>717</td>\n      <td>1</td>\n      <td>1</td>\n      <td>Endres, Miss. Caroline Louise</td>\n      <td>female</td>\n      <td>38.0</td>\n      <td>0</td>\n      <td>0</td>\n      <td>PC 17757</td>\n      <td>227.5250</td>\n      <td>C45</td>\n      <td>C</td>\n      <td>False</td>\n      <td>False</td>\n    </tr>\n    <tr>\n      <th>527</th>\n      <td>528</td>\n      <td>0</td>\n      <td>1</td>\n      <td>Farthing, Mr. John</td>\n      <td>male</td>\n      <td>NaN</td>\n      <td>0</td>\n      <td>0</td>\n      <td>PC 17483</td>\n      <td>221.7792</td>\n      <td>C95</td>\n      <td>S</td>\n      <td>False</td>\n      <td>False</td>\n    </tr>\n    <tr>\n      <th>377</th>\n      <td>378</td>\n      <td>0</td>\n      <td>1</td>\n      <td>Widener, Mr. Harry Elkins</td>\n      <td>male</td>\n      <td>27.0</td>\n      <td>0</td>\n      <td>2</td>\n      <td>113503</td>\n      <td>211.5000</td>\n      <td>C82</td>\n      <td>C</td>\n      <td>False</td>\n      <td>False</td>\n    </tr>\n    <tr>\n      <th>730</th>\n      <td>731</td>\n      <td>1</td>\n      <td>1</td>\n      <td>Allen, Miss. Elisabeth Walton</td>\n      <td>female</td>\n      <td>29.0</td>\n      <td>0</td>\n      <td>0</td>\n      <td>24160</td>\n      <td>211.3375</td>\n      <td>B5</td>\n      <td>S</td>\n      <td>False</td>\n      <td>False</td>\n    </tr>\n    <tr>\n      <th>779</th>\n      <td>780</td>\n      <td>1</td>\n      <td>1</td>\n      <td>Robert, Mrs. Edward Scott (Elisabeth Walton Mc...</td>\n      <td>female</td>\n      <td>43.0</td>\n      <td>0</td>\n      <td>1</td>\n      <td>24160</td>\n      <td>211.3375</td>\n      <td>B3</td>\n      <td>S</td>\n      <td>False</td>\n      <td>False</td>\n    </tr>\n    <tr>\n      <th>689</th>\n      <td>690</td>\n      <td>1</td>\n      <td>1</td>\n      <td>Madill, Miss. Georgette Alexandra</td>\n      <td>female</td>\n      <td>15.0</td>\n      <td>0</td>\n      <td>1</td>\n      <td>24160</td>\n      <td>211.3375</td>\n      <td>B5</td>\n      <td>S</td>\n      <td>False</td>\n      <td>False</td>\n    </tr>\n  </tbody>\n</table>\n</div>"
     },
     "metadata": {},
     "execution_count": 122
    }
   ],
   "source": [
    "# Fare and ticket number related ?\n",
    "df.sort_values(by=\"Fare\", ascending=False).head(20)"
   ]
  },
  {
   "cell_type": "code",
   "execution_count": 91,
   "metadata": {},
   "outputs": [
    {
     "output_type": "execute_result",
     "data": {
      "text/plain": [
       "     PassengerId  Survived  Pclass                                Name  \\\n",
       "258          259         1       1                    Ward, Miss. Anna   \n",
       "679          680         1       1  Cardeza, Mr. Thomas Drake Martinez   \n",
       "737          738         1       1              Lesurer, Mr. Gustave J   \n",
       "\n",
       "        Sex   Age  SibSp  Parch    Ticket      Fare        Cabin Embarked  \\\n",
       "258  female  35.0      0      0  PC 17755  512.3292          NaN        C   \n",
       "679    male  36.0      0      1  PC 17755  512.3292  B51 B53 B55        C   \n",
       "737    male  35.0      0      0  PC 17755  512.3292         B101        C   \n",
       "\n",
       "     Child  Parent  \n",
       "258  False   False  \n",
       "679  False   False  \n",
       "737  False   False  "
      ],
      "text/html": "<div>\n<style scoped>\n    .dataframe tbody tr th:only-of-type {\n        vertical-align: middle;\n    }\n\n    .dataframe tbody tr th {\n        vertical-align: top;\n    }\n\n    .dataframe thead th {\n        text-align: right;\n    }\n</style>\n<table border=\"1\" class=\"dataframe\">\n  <thead>\n    <tr style=\"text-align: right;\">\n      <th></th>\n      <th>PassengerId</th>\n      <th>Survived</th>\n      <th>Pclass</th>\n      <th>Name</th>\n      <th>Sex</th>\n      <th>Age</th>\n      <th>SibSp</th>\n      <th>Parch</th>\n      <th>Ticket</th>\n      <th>Fare</th>\n      <th>Cabin</th>\n      <th>Embarked</th>\n      <th>Child</th>\n      <th>Parent</th>\n    </tr>\n  </thead>\n  <tbody>\n    <tr>\n      <th>258</th>\n      <td>259</td>\n      <td>1</td>\n      <td>1</td>\n      <td>Ward, Miss. Anna</td>\n      <td>female</td>\n      <td>35.0</td>\n      <td>0</td>\n      <td>0</td>\n      <td>PC 17755</td>\n      <td>512.3292</td>\n      <td>NaN</td>\n      <td>C</td>\n      <td>False</td>\n      <td>False</td>\n    </tr>\n    <tr>\n      <th>679</th>\n      <td>680</td>\n      <td>1</td>\n      <td>1</td>\n      <td>Cardeza, Mr. Thomas Drake Martinez</td>\n      <td>male</td>\n      <td>36.0</td>\n      <td>0</td>\n      <td>1</td>\n      <td>PC 17755</td>\n      <td>512.3292</td>\n      <td>B51 B53 B55</td>\n      <td>C</td>\n      <td>False</td>\n      <td>False</td>\n    </tr>\n    <tr>\n      <th>737</th>\n      <td>738</td>\n      <td>1</td>\n      <td>1</td>\n      <td>Lesurer, Mr. Gustave J</td>\n      <td>male</td>\n      <td>35.0</td>\n      <td>0</td>\n      <td>0</td>\n      <td>PC 17755</td>\n      <td>512.3292</td>\n      <td>B101</td>\n      <td>C</td>\n      <td>False</td>\n      <td>False</td>\n    </tr>\n  </tbody>\n</table>\n</div>"
     },
     "metadata": {},
     "execution_count": 91
    }
   ],
   "source": [
    "df[df['Fare'] > 263]"
   ]
  },
  {
   "cell_type": "code",
   "execution_count": 102,
   "metadata": {},
   "outputs": [
    {
     "output_type": "execute_result",
     "data": {
      "text/plain": [
       "0    0.616162\n",
       "1    0.383838\n",
       "Name: Survived, dtype: float64"
      ]
     },
     "metadata": {},
     "execution_count": 102
    }
   ],
   "source": [
    "df.Survived.value_counts() / 891"
   ]
  },
  {
   "cell_type": "code",
   "execution_count": 107,
   "metadata": {},
   "outputs": [
    {
     "output_type": "execute_result",
     "data": {
      "text/plain": [
       "1    0.152637\n",
       "0    0.089787\n",
       "Name: Survived, dtype: float64"
      ]
     },
     "metadata": {},
     "execution_count": 107
    }
   ],
   "source": [
    "df[df.Pclass == 1].Survived.value_counts() / 891"
   ]
  },
  {
   "cell_type": "code",
   "execution_count": 112,
   "metadata": {},
   "outputs": [
    {
     "output_type": "execute_result",
     "data": {
      "text/plain": [
       "0    0.527174\n",
       "1    0.472826\n",
       "Name: Survived, dtype: float64"
      ]
     },
     "metadata": {},
     "execution_count": 112
    }
   ],
   "source": [
    "df[df.Pclass == 2].Survived.value_counts() / 184"
   ]
  },
  {
   "cell_type": "code",
   "execution_count": 117,
   "metadata": {},
   "outputs": [
    {
     "output_type": "execute_result",
     "data": {
      "text/plain": [
       "0    0.757637\n",
       "1    0.242363\n",
       "Name: Survived, dtype: float64"
      ]
     },
     "metadata": {},
     "execution_count": 117
    }
   ],
   "source": [
    "df[df.Pclass == 3].Survived.value_counts() /491"
   ]
  },
  {
   "cell_type": "code",
   "execution_count": 119,
   "metadata": {},
   "outputs": [
    {
     "output_type": "execute_result",
     "data": {
      "text/plain": [
       "0    549\n",
       "1    342\n",
       "Name: Survived, dtype: int64"
      ]
     },
     "metadata": {},
     "execution_count": 119
    }
   ],
   "source": [
    "df.Survived.value_counts()"
   ]
  },
  {
   "cell_type": "code",
   "execution_count": 121,
   "metadata": {},
   "outputs": [
    {
     "output_type": "execute_result",
     "data": {
      "text/plain": [
       "array([3, 1, 2])"
      ]
     },
     "metadata": {},
     "execution_count": 121
    }
   ],
   "source": [
    "df.Pclass.unique()"
   ]
  },
  {
   "cell_type": "code",
   "execution_count": 127,
   "metadata": {},
   "outputs": [
    {
     "output_type": "execute_result",
     "data": {
      "text/plain": [
       "B96 B98        4\n",
       "C23 C25 C27    4\n",
       "G6             4\n",
       "F33            3\n",
       "D              3\n",
       "              ..\n",
       "F E69          1\n",
       "E50            1\n",
       "D15            1\n",
       "A19            1\n",
       "F38            1\n",
       "Name: Cabin, Length: 147, dtype: int64"
      ]
     },
     "metadata": {},
     "execution_count": 127
    }
   ],
   "source": [
    "df.Cabin.value_counts()"
   ]
  },
  {
   "cell_type": "code",
   "execution_count": 123,
   "metadata": {},
   "outputs": [
    {
     "output_type": "execute_result",
     "data": {
      "text/plain": [
       "             PassengerId  Survived    Pclass       Age     SibSp     Parch  \\\n",
       "PassengerId     1.000000 -0.005007 -0.035144  0.036847 -0.057527 -0.001652   \n",
       "Survived       -0.005007  1.000000 -0.338481 -0.077221 -0.035322  0.081629   \n",
       "Pclass         -0.035144 -0.338481  1.000000 -0.369226  0.083081  0.018443   \n",
       "Age             0.036847 -0.077221 -0.369226  1.000000 -0.308247 -0.189119   \n",
       "SibSp          -0.057527 -0.035322  0.083081 -0.308247  1.000000  0.414838   \n",
       "Parch          -0.001652  0.081629  0.018443 -0.189119  0.414838  1.000000   \n",
       "Fare            0.012658  0.257307 -0.549500  0.096067  0.159651  0.216225   \n",
       "Child          -0.067955 -0.111145  0.150553 -0.310333  0.814314  0.342801   \n",
       "Parent          0.020248 -0.031528  0.066507  0.092513  0.032887  0.609403   \n",
       "\n",
       "                 Fare     Child    Parent  \n",
       "PassengerId  0.012658 -0.067955  0.020248  \n",
       "Survived     0.257307 -0.111145 -0.031528  \n",
       "Pclass      -0.549500  0.150553  0.066507  \n",
       "Age          0.096067 -0.310333  0.092513  \n",
       "SibSp        0.159651  0.814314  0.032887  \n",
       "Parch        0.216225  0.342801  0.609403  \n",
       "Fare         1.000000  0.093537  0.034466  \n",
       "Child        0.093537  1.000000 -0.030531  \n",
       "Parent       0.034466 -0.030531  1.000000  "
      ],
      "text/html": "<div>\n<style scoped>\n    .dataframe tbody tr th:only-of-type {\n        vertical-align: middle;\n    }\n\n    .dataframe tbody tr th {\n        vertical-align: top;\n    }\n\n    .dataframe thead th {\n        text-align: right;\n    }\n</style>\n<table border=\"1\" class=\"dataframe\">\n  <thead>\n    <tr style=\"text-align: right;\">\n      <th></th>\n      <th>PassengerId</th>\n      <th>Survived</th>\n      <th>Pclass</th>\n      <th>Age</th>\n      <th>SibSp</th>\n      <th>Parch</th>\n      <th>Fare</th>\n      <th>Child</th>\n      <th>Parent</th>\n    </tr>\n  </thead>\n  <tbody>\n    <tr>\n      <th>PassengerId</th>\n      <td>1.000000</td>\n      <td>-0.005007</td>\n      <td>-0.035144</td>\n      <td>0.036847</td>\n      <td>-0.057527</td>\n      <td>-0.001652</td>\n      <td>0.012658</td>\n      <td>-0.067955</td>\n      <td>0.020248</td>\n    </tr>\n    <tr>\n      <th>Survived</th>\n      <td>-0.005007</td>\n      <td>1.000000</td>\n      <td>-0.338481</td>\n      <td>-0.077221</td>\n      <td>-0.035322</td>\n      <td>0.081629</td>\n      <td>0.257307</td>\n      <td>-0.111145</td>\n      <td>-0.031528</td>\n    </tr>\n    <tr>\n      <th>Pclass</th>\n      <td>-0.035144</td>\n      <td>-0.338481</td>\n      <td>1.000000</td>\n      <td>-0.369226</td>\n      <td>0.083081</td>\n      <td>0.018443</td>\n      <td>-0.549500</td>\n      <td>0.150553</td>\n      <td>0.066507</td>\n    </tr>\n    <tr>\n      <th>Age</th>\n      <td>0.036847</td>\n      <td>-0.077221</td>\n      <td>-0.369226</td>\n      <td>1.000000</td>\n      <td>-0.308247</td>\n      <td>-0.189119</td>\n      <td>0.096067</td>\n      <td>-0.310333</td>\n      <td>0.092513</td>\n    </tr>\n    <tr>\n      <th>SibSp</th>\n      <td>-0.057527</td>\n      <td>-0.035322</td>\n      <td>0.083081</td>\n      <td>-0.308247</td>\n      <td>1.000000</td>\n      <td>0.414838</td>\n      <td>0.159651</td>\n      <td>0.814314</td>\n      <td>0.032887</td>\n    </tr>\n    <tr>\n      <th>Parch</th>\n      <td>-0.001652</td>\n      <td>0.081629</td>\n      <td>0.018443</td>\n      <td>-0.189119</td>\n      <td>0.414838</td>\n      <td>1.000000</td>\n      <td>0.216225</td>\n      <td>0.342801</td>\n      <td>0.609403</td>\n    </tr>\n    <tr>\n      <th>Fare</th>\n      <td>0.012658</td>\n      <td>0.257307</td>\n      <td>-0.549500</td>\n      <td>0.096067</td>\n      <td>0.159651</td>\n      <td>0.216225</td>\n      <td>1.000000</td>\n      <td>0.093537</td>\n      <td>0.034466</td>\n    </tr>\n    <tr>\n      <th>Child</th>\n      <td>-0.067955</td>\n      <td>-0.111145</td>\n      <td>0.150553</td>\n      <td>-0.310333</td>\n      <td>0.814314</td>\n      <td>0.342801</td>\n      <td>0.093537</td>\n      <td>1.000000</td>\n      <td>-0.030531</td>\n    </tr>\n    <tr>\n      <th>Parent</th>\n      <td>0.020248</td>\n      <td>-0.031528</td>\n      <td>0.066507</td>\n      <td>0.092513</td>\n      <td>0.032887</td>\n      <td>0.609403</td>\n      <td>0.034466</td>\n      <td>-0.030531</td>\n      <td>1.000000</td>\n    </tr>\n  </tbody>\n</table>\n</div>"
     },
     "metadata": {},
     "execution_count": 123
    }
   ],
   "source": [
    "df.corr()"
   ]
  },
  {
   "cell_type": "code",
   "execution_count": 126,
   "metadata": {},
   "outputs": [
    {
     "output_type": "error",
     "ename": "TypeError",
     "evalue": "'<=' not supported between instances of 'int' and 'str'",
     "traceback": [
      "\u001b[0;31m---------------------------------------------------------------------------\u001b[0m",
      "\u001b[0;31mTypeError\u001b[0m                                 Traceback (most recent call last)",
      "\u001b[0;32m<ipython-input-126-dff071da4b36>\u001b[0m in \u001b[0;36m<module>\u001b[0;34m\u001b[0m\n\u001b[0;32m----> 1\u001b[0;31m \u001b[0max\u001b[0m \u001b[0;34m=\u001b[0m \u001b[0msns\u001b[0m\u001b[0;34m.\u001b[0m\u001b[0mheatmap\u001b[0m\u001b[0;34m(\u001b[0m\u001b[0mdf\u001b[0m\u001b[0;34m,\u001b[0m \u001b[0mannot\u001b[0m\u001b[0;34m=\u001b[0m\u001b[0;32mTrue\u001b[0m\u001b[0;34m,\u001b[0m \u001b[0mfmt\u001b[0m\u001b[0;34m=\u001b[0m\u001b[0;34m\"d\"\u001b[0m\u001b[0;34m)\u001b[0m\u001b[0;34m\u001b[0m\u001b[0;34m\u001b[0m\u001b[0m\n\u001b[0m",
      "\u001b[0;32m~/anaconda3/lib/python3.8/site-packages/seaborn/matrix.py\u001b[0m in \u001b[0;36mheatmap\u001b[0;34m(data, vmin, vmax, cmap, center, robust, annot, fmt, annot_kws, linewidths, linecolor, cbar, cbar_kws, cbar_ax, square, xticklabels, yticklabels, mask, ax, **kwargs)\u001b[0m\n\u001b[1;32m    533\u001b[0m     \"\"\"\n\u001b[1;32m    534\u001b[0m     \u001b[0;31m# Initialize the plotter object\u001b[0m\u001b[0;34m\u001b[0m\u001b[0;34m\u001b[0m\u001b[0;34m\u001b[0m\u001b[0m\n\u001b[0;32m--> 535\u001b[0;31m     plotter = _HeatMapper(data, vmin, vmax, cmap, center, robust, annot, fmt,\n\u001b[0m\u001b[1;32m    536\u001b[0m                           \u001b[0mannot_kws\u001b[0m\u001b[0;34m,\u001b[0m \u001b[0mcbar\u001b[0m\u001b[0;34m,\u001b[0m \u001b[0mcbar_kws\u001b[0m\u001b[0;34m,\u001b[0m \u001b[0mxticklabels\u001b[0m\u001b[0;34m,\u001b[0m\u001b[0;34m\u001b[0m\u001b[0;34m\u001b[0m\u001b[0m\n\u001b[1;32m    537\u001b[0m                           yticklabels, mask)\n",
      "\u001b[0;32m~/anaconda3/lib/python3.8/site-packages/seaborn/matrix.py\u001b[0m in \u001b[0;36m__init__\u001b[0;34m(self, data, vmin, vmax, cmap, center, robust, annot, fmt, annot_kws, cbar, cbar_kws, xticklabels, yticklabels, mask)\u001b[0m\n\u001b[1;32m    162\u001b[0m \u001b[0;34m\u001b[0m\u001b[0m\n\u001b[1;32m    163\u001b[0m         \u001b[0;31m# Determine good default values for the colormapping\u001b[0m\u001b[0;34m\u001b[0m\u001b[0;34m\u001b[0m\u001b[0;34m\u001b[0m\u001b[0m\n\u001b[0;32m--> 164\u001b[0;31m         self._determine_cmap_params(plot_data, vmin, vmax,\n\u001b[0m\u001b[1;32m    165\u001b[0m                                     cmap, center, robust)\n\u001b[1;32m    166\u001b[0m \u001b[0;34m\u001b[0m\u001b[0m\n",
      "\u001b[0;32m~/anaconda3/lib/python3.8/site-packages/seaborn/matrix.py\u001b[0m in \u001b[0;36m_determine_cmap_params\u001b[0;34m(self, plot_data, vmin, vmax, cmap, center, robust)\u001b[0m\n\u001b[1;32m    201\u001b[0m                 \u001b[0mvmin\u001b[0m \u001b[0;34m=\u001b[0m \u001b[0mnp\u001b[0m\u001b[0;34m.\u001b[0m\u001b[0mnanpercentile\u001b[0m\u001b[0;34m(\u001b[0m\u001b[0mcalc_data\u001b[0m\u001b[0;34m,\u001b[0m \u001b[0;36m2\u001b[0m\u001b[0;34m)\u001b[0m\u001b[0;34m\u001b[0m\u001b[0;34m\u001b[0m\u001b[0m\n\u001b[1;32m    202\u001b[0m             \u001b[0;32melse\u001b[0m\u001b[0;34m:\u001b[0m\u001b[0;34m\u001b[0m\u001b[0;34m\u001b[0m\u001b[0m\n\u001b[0;32m--> 203\u001b[0;31m                 \u001b[0mvmin\u001b[0m \u001b[0;34m=\u001b[0m \u001b[0mnp\u001b[0m\u001b[0;34m.\u001b[0m\u001b[0mnanmin\u001b[0m\u001b[0;34m(\u001b[0m\u001b[0mcalc_data\u001b[0m\u001b[0;34m)\u001b[0m\u001b[0;34m\u001b[0m\u001b[0;34m\u001b[0m\u001b[0m\n\u001b[0m\u001b[1;32m    204\u001b[0m         \u001b[0;32mif\u001b[0m \u001b[0mvmax\u001b[0m \u001b[0;32mis\u001b[0m \u001b[0;32mNone\u001b[0m\u001b[0;34m:\u001b[0m\u001b[0;34m\u001b[0m\u001b[0;34m\u001b[0m\u001b[0m\n\u001b[1;32m    205\u001b[0m             \u001b[0;32mif\u001b[0m \u001b[0mrobust\u001b[0m\u001b[0;34m:\u001b[0m\u001b[0;34m\u001b[0m\u001b[0;34m\u001b[0m\u001b[0m\n",
      "\u001b[0;32m<__array_function__ internals>\u001b[0m in \u001b[0;36mnanmin\u001b[0;34m(*args, **kwargs)\u001b[0m\n",
      "\u001b[0;32m~/anaconda3/lib/python3.8/site-packages/numpy/lib/nanfunctions.py\u001b[0m in \u001b[0;36mnanmin\u001b[0;34m(a, axis, out, keepdims)\u001b[0m\n\u001b[1;32m    326\u001b[0m         \u001b[0;31m# Slow, but safe for subclasses of ndarray\u001b[0m\u001b[0;34m\u001b[0m\u001b[0;34m\u001b[0m\u001b[0;34m\u001b[0m\u001b[0m\n\u001b[1;32m    327\u001b[0m         \u001b[0ma\u001b[0m\u001b[0;34m,\u001b[0m \u001b[0mmask\u001b[0m \u001b[0;34m=\u001b[0m \u001b[0m_replace_nan\u001b[0m\u001b[0;34m(\u001b[0m\u001b[0ma\u001b[0m\u001b[0;34m,\u001b[0m \u001b[0;34m+\u001b[0m\u001b[0mnp\u001b[0m\u001b[0;34m.\u001b[0m\u001b[0minf\u001b[0m\u001b[0;34m)\u001b[0m\u001b[0;34m\u001b[0m\u001b[0;34m\u001b[0m\u001b[0m\n\u001b[0;32m--> 328\u001b[0;31m         \u001b[0mres\u001b[0m \u001b[0;34m=\u001b[0m \u001b[0mnp\u001b[0m\u001b[0;34m.\u001b[0m\u001b[0mamin\u001b[0m\u001b[0;34m(\u001b[0m\u001b[0ma\u001b[0m\u001b[0;34m,\u001b[0m \u001b[0maxis\u001b[0m\u001b[0;34m=\u001b[0m\u001b[0maxis\u001b[0m\u001b[0;34m,\u001b[0m \u001b[0mout\u001b[0m\u001b[0;34m=\u001b[0m\u001b[0mout\u001b[0m\u001b[0;34m,\u001b[0m \u001b[0;34m**\u001b[0m\u001b[0mkwargs\u001b[0m\u001b[0;34m)\u001b[0m\u001b[0;34m\u001b[0m\u001b[0;34m\u001b[0m\u001b[0m\n\u001b[0m\u001b[1;32m    329\u001b[0m         \u001b[0;32mif\u001b[0m \u001b[0mmask\u001b[0m \u001b[0;32mis\u001b[0m \u001b[0;32mNone\u001b[0m\u001b[0;34m:\u001b[0m\u001b[0;34m\u001b[0m\u001b[0;34m\u001b[0m\u001b[0m\n\u001b[1;32m    330\u001b[0m             \u001b[0;32mreturn\u001b[0m \u001b[0mres\u001b[0m\u001b[0;34m\u001b[0m\u001b[0;34m\u001b[0m\u001b[0m\n",
      "\u001b[0;32m<__array_function__ internals>\u001b[0m in \u001b[0;36mamin\u001b[0;34m(*args, **kwargs)\u001b[0m\n",
      "\u001b[0;32m~/anaconda3/lib/python3.8/site-packages/numpy/core/fromnumeric.py\u001b[0m in \u001b[0;36mamin\u001b[0;34m(a, axis, out, keepdims, initial, where)\u001b[0m\n\u001b[1;32m   2790\u001b[0m     \u001b[0;36m6\u001b[0m\u001b[0;34m\u001b[0m\u001b[0;34m\u001b[0m\u001b[0m\n\u001b[1;32m   2791\u001b[0m     \"\"\"\n\u001b[0;32m-> 2792\u001b[0;31m     return _wrapreduction(a, np.minimum, 'min', axis, None, out,\n\u001b[0m\u001b[1;32m   2793\u001b[0m                           keepdims=keepdims, initial=initial, where=where)\n\u001b[1;32m   2794\u001b[0m \u001b[0;34m\u001b[0m\u001b[0m\n",
      "\u001b[0;32m~/anaconda3/lib/python3.8/site-packages/numpy/core/fromnumeric.py\u001b[0m in \u001b[0;36m_wrapreduction\u001b[0;34m(obj, ufunc, method, axis, dtype, out, **kwargs)\u001b[0m\n\u001b[1;32m     88\u001b[0m                 \u001b[0;32mreturn\u001b[0m \u001b[0mreduction\u001b[0m\u001b[0;34m(\u001b[0m\u001b[0maxis\u001b[0m\u001b[0;34m=\u001b[0m\u001b[0maxis\u001b[0m\u001b[0;34m,\u001b[0m \u001b[0mout\u001b[0m\u001b[0;34m=\u001b[0m\u001b[0mout\u001b[0m\u001b[0;34m,\u001b[0m \u001b[0;34m**\u001b[0m\u001b[0mpasskwargs\u001b[0m\u001b[0;34m)\u001b[0m\u001b[0;34m\u001b[0m\u001b[0;34m\u001b[0m\u001b[0m\n\u001b[1;32m     89\u001b[0m \u001b[0;34m\u001b[0m\u001b[0m\n\u001b[0;32m---> 90\u001b[0;31m     \u001b[0;32mreturn\u001b[0m \u001b[0mufunc\u001b[0m\u001b[0;34m.\u001b[0m\u001b[0mreduce\u001b[0m\u001b[0;34m(\u001b[0m\u001b[0mobj\u001b[0m\u001b[0;34m,\u001b[0m \u001b[0maxis\u001b[0m\u001b[0;34m,\u001b[0m \u001b[0mdtype\u001b[0m\u001b[0;34m,\u001b[0m \u001b[0mout\u001b[0m\u001b[0;34m,\u001b[0m \u001b[0;34m**\u001b[0m\u001b[0mpasskwargs\u001b[0m\u001b[0;34m)\u001b[0m\u001b[0;34m\u001b[0m\u001b[0;34m\u001b[0m\u001b[0m\n\u001b[0m\u001b[1;32m     91\u001b[0m \u001b[0;34m\u001b[0m\u001b[0m\n\u001b[1;32m     92\u001b[0m \u001b[0;34m\u001b[0m\u001b[0m\n",
      "\u001b[0;31mTypeError\u001b[0m: '<=' not supported between instances of 'int' and 'str'"
     ]
    }
   ],
   "source": [
    "ax = sns.heatmap(df, annot=True, fmt=\"d\")"
   ]
  },
  {
   "cell_type": "code",
   "execution_count": null,
   "metadata": {},
   "outputs": [],
   "source": [
    "### \n",
    "# Need numerize all important column and check the letter CABIN (dummies) and # see relation between parent children"
   ]
  }
 ]
}